{
 "cells": [
  {
   "cell_type": "code",
   "execution_count": 30,
   "metadata": {},
   "outputs": [],
   "source": [
    "# Import our dependencies\n",
    "import pandas as pd\n",
    "import matplotlib as plt\n",
    "from sklearn.datasets import make_blobs\n",
    "import sklearn as skl\n",
    "import tensorflow as tf"
   ]
  },
  {
   "cell_type": "code",
   "execution_count": 31,
   "metadata": {},
   "outputs": [],
   "source": [
    "# Generate dummy dataset\n",
    "X, y = make_blobs(n_samples=1000, centers=2, n_features=2, random_state=78)"
   ]
  },
  {
   "cell_type": "code",
   "execution_count": 32,
   "metadata": {},
   "outputs": [],
   "source": [
    "# Creating a DataFrame with the dummy data\n",
    "df = pd.DataFrame(X, columns=[\"Feature 1\", \"Feature 2\"])\n",
    "df[\"Target\"] = y"
   ]
  },
  {
   "cell_type": "code",
   "execution_count": 33,
   "metadata": {},
   "outputs": [
    {
     "data": {
      "text/plain": [
       "<matplotlib.axes._subplots.AxesSubplot at 0x1ba518ff388>"
      ]
     },
     "execution_count": 33,
     "metadata": {},
     "output_type": "execute_result"
    },
    {
     "data": {
      "image/png": "[encoded data removed]",
      "text/plain": [
       "<Figure size 432x288 with 2 Axes>"
      ]
     },
     "metadata": {
      "needs_background": "light"
     },
     "output_type": "display_data"
    }
   ],
   "source": [
    "# Plotting the dummy data\n",
    "df.plot.scatter(x=\"Feature 1\", y=\"Feature 2\", c=\"Target\", colormap=\"winter\")"
   ]
  },
  {
   "cell_type": "code",
   "execution_count": 34,
   "metadata": {},
   "outputs": [],
   "source": [
    "# Use sklearn to split dataset\n",
    "from sklearn.model_selection import train_test_split\n",
    "X_train, X_test, y_train, y_test = train_test_split(X, y, random_state=78)"
   ]
  },
  {
   "cell_type": "code",
   "execution_count": 35,
   "metadata": {},
   "outputs": [],
   "source": [
    "# Create scaler instance\n",
    "X_scaler = skl.preprocessing.StandardScaler()"
   ]
  },
  {
   "cell_type": "code",
   "execution_count": 36,
   "metadata": {},
   "outputs": [
    {
     "data": {
      "text/plain": [
       "StandardScaler()"
      ]
     },
     "execution_count": 36,
     "metadata": {},
     "output_type": "execute_result"
    }
   ],
   "source": [
    "# Fit the scaler\n",
    "X_scaler.fit(X_train)"
   ]
  },
  {
   "cell_type": "code",
   "execution_count": 37,
   "metadata": {},
   "outputs": [],
   "source": [
    "# Scale the data\n",
    "X_train_scaled = X_scaler.transform(X_train)\n",
    "X_test_scaled = X_scaler.transform(X_test)\n"
   ]
  },
  {
   "cell_type": "code",
   "execution_count": 38,
   "metadata": {},
   "outputs": [],
   "source": [
    "# Create the Keras Sequential model\n",
    "nn_model = tf.keras.models.Sequential()"
   ]
  },
  {
   "cell_type": "code",
   "execution_count": 39,
   "metadata": {},
   "outputs": [],
   "source": [
    "# Add our first Dense layer, including the input layer\n",
    "nn_model.add(tf.keras.layers.Dense(units=1, activation=\"relu\", input_dim=2))"
   ]
  },
  {
   "cell_type": "code",
   "execution_count": 40,
   "metadata": {},
   "outputs": [],
   "source": [
    "# Add the output layer that uses a probability activation function\n",
    "nn_model.add(tf.keras.layers.Dense(units=1, activation=\"sigmoid\"))"
   ]
  },
  {
   "cell_type": "code",
   "execution_count": 41,
   "metadata": {},
   "outputs": [
    {
     "name": "stdout",
     "output_type": "stream",
     "text": [
      "Model: \"sequential_2\"\n",
      "_________________________________________________________________\n",
      "Layer (type)                 Output Shape              Param #   \n",
      "=================================================================\n",
      "dense_3 (Dense)              (None, 1)                 3         \n",
      "_________________________________________________________________\n",
      "dense_4 (Dense)              (None, 1)                 2         \n",
      "=================================================================\n",
      "Total params: 5\n",
      "Trainable params: 5\n",
      "Non-trainable params: 0\n",
      "_________________________________________________________________\n"
     ]
    }
   ],
   "source": [
    "# Check the structure of the Sequential model\n",
    "nn_model.summary()\n"
   ]
  },
  {
   "cell_type": "code",
   "execution_count": 42,
   "metadata": {},
   "outputs": [],
   "source": [
    "# Compile the Sequential model together and customize metrics\n",
    "nn_model.compile(loss=\"binary_crossentropy\", optimizer=\"adam\", metrics=[\"accuracy\"])"
   ]
  },
  {
   "cell_type": "code",
   "execution_count": 43,
   "metadata": {},
   "outputs": [
    {
     "name": "stdout",
     "output_type": "stream",
     "text": [
      "Epoch 1/100\n",
      "750/750 [==============================] - 0s 253us/sample - loss: 0.4573 - acc: 0.9947\n",
      "Epoch 2/100\n",
      "750/750 [==============================] - 0s 45us/sample - loss: 0.4462 - acc: 0.9947\n",
      "Epoch 3/100\n",
      "750/750 [==============================] - 0s 53us/sample - loss: 0.4354 - acc: 0.9947\n",
      "Epoch 4/100\n",
      "750/750 [==============================] - 0s 60us/sample - loss: 0.4248 - acc: 0.9947\n",
      "Epoch 5/100\n",
      "750/750 [==============================] - 0s 51us/sample - loss: 0.4146 - acc: 0.9947\n",
      "Epoch 6/100\n",
      "750/750 [==============================] - 0s 47us/sample - loss: 0.4046 - acc: 0.9947\n",
      "Epoch 7/100\n",
      "750/750 [==============================] - 0s 51us/sample - loss: 0.3949 - acc: 0.9947\n",
      "Epoch 8/100\n",
      "750/750 [==============================] - 0s 39us/sample - loss: 0.3855 - acc: 0.9947\n",
      "Epoch 9/100\n",
      "750/750 [==============================] - 0s 44us/sample - loss: 0.3764 - acc: 0.9947\n",
      "Epoch 10/100\n",
      "750/750 [==============================] - 0s 45us/sample - loss: 0.3676 - acc: 0.9947\n",
      "Epoch 11/100\n",
      "750/750 [==============================] - 0s 43us/sample - loss: 0.3591 - acc: 0.9947\n",
      "Epoch 12/100\n",
      "750/750 [==============================] - 0s 41us/sample - loss: 0.3509 - acc: 0.9947\n",
      "Epoch 13/100\n",
      "750/750 [==============================] - 0s 44us/sample - loss: 0.3428 - acc: 0.9947\n",
      "Epoch 14/100\n",
      "750/750 [==============================] - 0s 44us/sample - loss: 0.3351 - acc: 0.9947\n",
      "Epoch 15/100\n",
      "750/750 [==============================] - 0s 43us/sample - loss: 0.3276 - acc: 0.9947\n",
      "Epoch 16/100\n",
      "750/750 [==============================] - 0s 44us/sample - loss: 0.3202 - acc: 0.9947\n",
      "Epoch 17/100\n",
      "750/750 [==============================] - 0s 45us/sample - loss: 0.3132 - acc: 0.9947\n",
      "Epoch 18/100\n",
      "750/750 [==============================] - 0s 41us/sample - loss: 0.3063 - acc: 0.9947\n",
      "Epoch 19/100\n",
      "750/750 [==============================] - 0s 47us/sample - loss: 0.2997 - acc: 0.9947\n",
      "Epoch 20/100\n",
      "750/750 [==============================] - ETA: 0s - loss: 0.3045 - acc: 1.000 - 0s 45us/sample - loss: 0.2932 - acc: 0.9960\n",
      "Epoch 21/100\n",
      "750/750 [==============================] - 0s 48us/sample - loss: 0.2869 - acc: 0.9960\n",
      "Epoch 22/100\n",
      "750/750 [==============================] - 0s 49us/sample - loss: 0.2809 - acc: 0.9960\n",
      "Epoch 23/100\n",
      "750/750 [==============================] - 0s 45us/sample - loss: 0.2750 - acc: 0.9960\n",
      "Epoch 24/100\n",
      "750/750 [==============================] - 0s 45us/sample - loss: 0.2692 - acc: 0.9960\n",
      "Epoch 25/100\n",
      "750/750 [==============================] - 0s 45us/sample - loss: 0.2636 - acc: 0.9960\n",
      "Epoch 26/100\n",
      "750/750 [==============================] - 0s 47us/sample - loss: 0.2582 - acc: 0.9960\n",
      "Epoch 27/100\n",
      "750/750 [==============================] - 0s 44us/sample - loss: 0.2529 - acc: 0.9960\n",
      "Epoch 28/100\n",
      "750/750 [==============================] - 0s 48us/sample - loss: 0.2477 - acc: 0.9973\n",
      "Epoch 29/100\n",
      "750/750 [==============================] - 0s 45us/sample - loss: 0.2427 - acc: 0.9987\n",
      "Epoch 30/100\n",
      "750/750 [==============================] - 0s 45us/sample - loss: 0.2379 - acc: 0.9987\n",
      "Epoch 31/100\n",
      "750/750 [==============================] - 0s 44us/sample - loss: 0.2331 - acc: 1.0000\n",
      "Epoch 32/100\n",
      "750/750 [==============================] - 0s 48us/sample - loss: 0.2284 - acc: 1.0000\n",
      "Epoch 33/100\n",
      "750/750 [==============================] - 0s 47us/sample - loss: 0.2239 - acc: 1.0000\n",
      "Epoch 34/100\n",
      "750/750 [==============================] - 0s 44us/sample - loss: 0.2195 - acc: 1.0000\n",
      "Epoch 35/100\n",
      "750/750 [==============================] - 0s 44us/sample - loss: 0.2153 - acc: 1.0000\n",
      "Epoch 36/100\n",
      "750/750 [==============================] - 0s 44us/sample - loss: 0.2111 - acc: 1.0000\n",
      "Epoch 37/100\n",
      "750/750 [==============================] - 0s 48us/sample - loss: 0.2071 - acc: 1.0000\n",
      "Epoch 38/100\n",
      "750/750 [==============================] - 0s 45us/sample - loss: 0.2031 - acc: 1.0000\n",
      "Epoch 39/100\n",
      "750/750 [==============================] - 0s 47us/sample - loss: 0.1992 - acc: 1.0000\n",
      "Epoch 40/100\n",
      "750/750 [==============================] - 0s 45us/sample - loss: 0.1955 - acc: 1.0000\n",
      "Epoch 41/100\n",
      "750/750 [==============================] - 0s 47us/sample - loss: 0.1918 - acc: 1.0000\n",
      "Epoch 42/100\n",
      "750/750 [==============================] - 0s 47us/sample - loss: 0.1882 - acc: 1.0000\n",
      "Epoch 43/100\n",
      "750/750 [==============================] - 0s 45us/sample - loss: 0.1848 - acc: 1.0000\n",
      "Epoch 44/100\n",
      "750/750 [==============================] - 0s 45us/sample - loss: 0.1814 - acc: 1.0000\n",
      "Epoch 45/100\n",
      "750/750 [==============================] - 0s 47us/sample - loss: 0.1780 - acc: 1.0000\n",
      "Epoch 46/100\n",
      "750/750 [==============================] - 0s 51us/sample - loss: 0.1748 - acc: 1.0000\n",
      "Epoch 47/100\n",
      "750/750 [==============================] - 0s 47us/sample - loss: 0.1716 - acc: 1.0000\n",
      "Epoch 48/100\n",
      "750/750 [==============================] - 0s 48us/sample - loss: 0.1685 - acc: 1.0000\n",
      "Epoch 49/100\n",
      "750/750 [==============================] - 0s 47us/sample - loss: 0.1655 - acc: 1.0000\n",
      "Epoch 50/100\n",
      "750/750 [==============================] - 0s 44us/sample - loss: 0.1626 - acc: 1.0000\n",
      "Epoch 51/100\n",
      "750/750 [==============================] - 0s 41us/sample - loss: 0.1597 - acc: 1.0000\n",
      "Epoch 52/100\n",
      "750/750 [==============================] - 0s 45us/sample - loss: 0.1568 - acc: 1.0000\n",
      "Epoch 53/100\n",
      "750/750 [==============================] - 0s 47us/sample - loss: 0.1541 - acc: 1.0000\n",
      "Epoch 54/100\n",
      "750/750 [==============================] - 0s 45us/sample - loss: 0.1514 - acc: 1.0000\n",
      "Epoch 55/100\n",
      "750/750 [==============================] - 0s 49us/sample - loss: 0.1488 - acc: 1.0000\n",
      "Epoch 56/100\n",
      "750/750 [==============================] - 0s 48us/sample - loss: 0.1463 - acc: 1.0000\n",
      "Epoch 57/100\n",
      "750/750 [==============================] - 0s 48us/sample - loss: 0.1438 - acc: 1.0000\n",
      "Epoch 58/100\n",
      "750/750 [==============================] - 0s 44us/sample - loss: 0.1413 - acc: 1.0000\n",
      "Epoch 59/100\n",
      "750/750 [==============================] - 0s 45us/sample - loss: 0.1389 - acc: 1.0000\n",
      "Epoch 60/100\n",
      "750/750 [==============================] - 0s 41us/sample - loss: 0.1366 - acc: 1.0000\n",
      "Epoch 61/100\n",
      "750/750 [==============================] - 0s 45us/sample - loss: 0.1343 - acc: 1.0000\n",
      "Epoch 62/100\n",
      "750/750 [==============================] - 0s 41us/sample - loss: 0.1321 - acc: 1.0000\n",
      "Epoch 63/100\n",
      "750/750 [==============================] - 0s 44us/sample - loss: 0.1299 - acc: 1.0000\n",
      "Epoch 64/100\n",
      "750/750 [==============================] - 0s 44us/sample - loss: 0.1277 - acc: 1.0000\n",
      "Epoch 65/100\n",
      "750/750 [==============================] - 0s 45us/sample - loss: 0.1256 - acc: 1.0000\n",
      "Epoch 66/100\n",
      "750/750 [==============================] - 0s 43us/sample - loss: 0.1236 - acc: 1.0000\n",
      "Epoch 67/100\n",
      "750/750 [==============================] - 0s 44us/sample - loss: 0.1216 - acc: 1.0000\n",
      "Epoch 68/100\n",
      "750/750 [==============================] - 0s 43us/sample - loss: 0.1196 - acc: 1.0000\n",
      "Epoch 69/100\n",
      "750/750 [==============================] - 0s 44us/sample - loss: 0.1177 - acc: 1.0000\n",
      "Epoch 70/100\n",
      "750/750 [==============================] - 0s 43us/sample - loss: 0.1158 - acc: 1.0000\n",
      "Epoch 71/100\n",
      "750/750 [==============================] - 0s 43us/sample - loss: 0.1140 - acc: 1.0000\n",
      "Epoch 72/100\n",
      "750/750 [==============================] - 0s 45us/sample - loss: 0.1121 - acc: 1.0000\n",
      "Epoch 73/100\n",
      "750/750 [==============================] - 0s 48us/sample - loss: 0.1104 - acc: 1.0000\n",
      "Epoch 74/100\n",
      "750/750 [==============================] - 0s 44us/sample - loss: 0.1087 - acc: 1.0000\n",
      "Epoch 75/100\n",
      "750/750 [==============================] - 0s 44us/sample - loss: 0.1070 - acc: 1.0000\n",
      "Epoch 76/100\n",
      "750/750 [==============================] - 0s 45us/sample - loss: 0.1053 - acc: 1.0000\n",
      "Epoch 77/100\n",
      "750/750 [==============================] - 0s 41us/sample - loss: 0.1037 - acc: 1.0000\n",
      "Epoch 78/100\n",
      "750/750 [==============================] - 0s 45us/sample - loss: 0.1021 - acc: 1.0000\n",
      "Epoch 79/100\n",
      "750/750 [==============================] - 0s 45us/sample - loss: 0.1005 - acc: 1.0000\n",
      "Epoch 80/100\n",
      "750/750 [==============================] - 0s 44us/sample - loss: 0.0990 - acc: 1.0000\n",
      "Epoch 81/100\n",
      "750/750 [==============================] - 0s 44us/sample - loss: 0.0975 - acc: 1.0000\n",
      "Epoch 82/100\n"
     ]
    },
    {
     "name": "stdout",
     "output_type": "stream",
     "text": [
      "750/750 [==============================] - 0s 45us/sample - loss: 0.0960 - acc: 1.0000\n",
      "Epoch 83/100\n",
      "750/750 [==============================] - 0s 41us/sample - loss: 0.0946 - acc: 1.0000\n",
      "Epoch 84/100\n",
      "750/750 [==============================] - 0s 41us/sample - loss: 0.0931 - acc: 1.0000\n",
      "Epoch 85/100\n",
      "750/750 [==============================] - 0s 43us/sample - loss: 0.0918 - acc: 1.0000\n",
      "Epoch 86/100\n",
      "750/750 [==============================] - 0s 43us/sample - loss: 0.0904 - acc: 1.0000\n",
      "Epoch 87/100\n",
      "750/750 [==============================] - 0s 45us/sample - loss: 0.0891 - acc: 1.0000\n",
      "Epoch 88/100\n",
      "750/750 [==============================] - 0s 41us/sample - loss: 0.0878 - acc: 1.0000\n",
      "Epoch 89/100\n",
      "750/750 [==============================] - 0s 43us/sample - loss: 0.0865 - acc: 1.0000\n",
      "Epoch 90/100\n",
      "750/750 [==============================] - 0s 45us/sample - loss: 0.0852 - acc: 1.0000\n",
      "Epoch 91/100\n",
      "750/750 [==============================] - 0s 44us/sample - loss: 0.0840 - acc: 1.0000\n",
      "Epoch 92/100\n",
      "750/750 [==============================] - 0s 41us/sample - loss: 0.0828 - acc: 1.0000\n",
      "Epoch 93/100\n",
      "750/750 [==============================] - 0s 44us/sample - loss: 0.0816 - acc: 1.0000\n",
      "Epoch 94/100\n",
      "750/750 [==============================] - 0s 41us/sample - loss: 0.0804 - acc: 1.0000\n",
      "Epoch 95/100\n",
      "750/750 [==============================] - 0s 40us/sample - loss: 0.0793 - acc: 1.0000\n",
      "Epoch 96/100\n",
      "750/750 [==============================] - 0s 43us/sample - loss: 0.0781 - acc: 1.0000\n",
      "Epoch 97/100\n",
      "750/750 [==============================] - 0s 43us/sample - loss: 0.0770 - acc: 1.0000\n",
      "Epoch 98/100\n",
      "750/750 [==============================] - 0s 45us/sample - loss: 0.0759 - acc: 1.0000\n",
      "Epoch 99/100\n",
      "750/750 [==============================] - 0s 47us/sample - loss: 0.0749 - acc: 1.0000\n",
      "Epoch 100/100\n",
      "750/750 [==============================] - 0s 48us/sample - loss: 0.0738 - acc: 1.0000\n"
     ]
    }
   ],
   "source": [
    "# Fit the model to the training data\n",
    "fit_model = nn_model.fit(X_train_scaled, y_train, epochs=100)\n"
   ]
  },
  {
   "cell_type": "code",
   "execution_count": 44,
   "metadata": {},
   "outputs": [],
   "source": [
    "# Create a DataFrame containing training history\n",
    "history_df = pd.DataFrame(fit_model.history, index=range(1,len(fit_model.history[\"loss\"])+1))"
   ]
  },
  {
   "cell_type": "code",
   "execution_count": 45,
   "metadata": {},
   "outputs": [
    {
     "data": {
      "text/plain": [
       "<matplotlib.axes._subplots.AxesSubplot at 0x1ba51d38048>"
      ]
     },
     "execution_count": 45,
     "metadata": {},
     "output_type": "execute_result"
    },
    {
     "data": {
      "image/png": "[encoded data removed]",
      "text/plain": [
       "<Figure size 432x288 with 1 Axes>"
      ]
     },
     "metadata": {
      "needs_background": "light"
     },
     "output_type": "display_data"
    }
   ],
   "source": [
    "# Plot the loss\n",
    "history_df.plot(y=\"loss\")"
   ]
  },
  {
   "cell_type": "code",
   "execution_count": 48,
   "metadata": {},
   "outputs": [
    {
     "name": "stdout",
     "output_type": "stream",
     "text": [
      "250/250 - 0s - loss: 0.0689 - acc: 1.0000\n",
      "Loss: 0.06890610790252685, Accuracy: 1.0\n"
     ]
    }
   ],
   "source": [
    "# Evaluate the model using the test data\n",
    "model_loss, model_accuracy = nn_model.evaluate(X_test_scaled,y_test,verbose=2)\n",
    "print(f\"Loss: {model_loss}, Accuracy: {model_accuracy}\")"
   ]
  },
  {
   "cell_type": "code",
   "execution_count": 49,
   "metadata": {},
   "outputs": [
    {
     "data": {
      "text/plain": [
       "array([[0],\n",
       "       [1],\n",
       "       [0],\n",
       "       [1],\n",
       "       [0],\n",
       "       [0],\n",
       "       [1],\n",
       "       [1],\n",
       "       [1],\n",
       "       [0]])"
      ]
     },
     "execution_count": 49,
     "metadata": {},
     "output_type": "execute_result"
    }
   ],
   "source": [
    "# Predict the classification of a new set of blob data\n",
    "new_X, new_Y = make_blobs(n_samples=10, centers=2, n_features=2, random_state=78)\n",
    "new_X_scaled = X_scaler.transform(new_X)\n",
    "nn_model.predict_classes(new_X_scaled)"
   ]
  },
  {
   "cell_type": "markdown",
   "metadata": {},
   "source": [
    "# NonLinear Model"
   ]
  },
  {
   "cell_type": "code",
   "execution_count": 50,
   "metadata": {},
   "outputs": [
    {
     "data": {
      "text/plain": [
       "<matplotlib.axes._subplots.AxesSubplot at 0x1ba53d5ee88>"
      ]
     },
     "execution_count": 50,
     "metadata": {},
     "output_type": "execute_result"
    },
    {
     "data": {
      "image/png": "[encoded data removed]",
      "text/plain": [
       "<Figure size 432x288 with 2 Axes>"
      ]
     },
     "metadata": {
      "needs_background": "light"
     },
     "output_type": "display_data"
    }
   ],
   "source": [
    "from sklearn.datasets import make_moons\n",
    "\n",
    "# Creating dummy nonlinear data\n",
    "X_moons, y_moons = make_moons(n_samples=1000, noise=0.08, random_state=78)\n",
    "\n",
    "# Transforming y_moons to a vertical vector\n",
    "y_moons = y_moons.reshape(-1, 1)\n",
    "\n",
    "# Creating a DataFrame to plot the nonlinear dummy data\n",
    "df_moons = pd.DataFrame(X_moons, columns=[\"Feature 1\", \"Feature 2\"])\n",
    "df_moons[\"Target\"] = y_moons\n",
    "\n",
    "# Plot the nonlinear dummy data\n",
    "df_moons.plot.scatter(x=\"Feature 1\",y=\"Feature 2\", c=\"Target\",colormap=\"winter\")"
   ]
  },
  {
   "cell_type": "code",
   "execution_count": 51,
   "metadata": {},
   "outputs": [],
   "source": [
    "# Create training and testing sets\n",
    "X_moon_train, X_moon_test, y_moon_train, y_moon_test = train_test_split(\n",
    "    X_moons, y_moons, random_state=78\n",
    ")\n",
    "\n",
    "# Create the scaler instance\n",
    "X_moon_scaler = skl.preprocessing.StandardScaler()\n",
    "\n",
    "# Fit the scaler\n",
    "X_moon_scaler.fit(X_moon_train)\n",
    "\n",
    "# Scale the data\n",
    "X_moon_train_scaled = X_moon_scaler.transform(X_moon_train)\n",
    "X_moon_test_scaled = X_moon_scaler.transform(X_moon_test)"
   ]
  },
  {
   "cell_type": "code",
   "execution_count": 52,
   "metadata": {},
   "outputs": [
    {
     "name": "stdout",
     "output_type": "stream",
     "text": [
      "Epoch 1/100\n",
      "750/750 [==============================] - 0s 52us/sample - loss: 1.1987 - acc: 0.4720\n",
      "Epoch 2/100\n",
      "750/750 [==============================] - 0s 49us/sample - loss: 1.0472 - acc: 0.4973\n",
      "Epoch 3/100\n",
      "750/750 [==============================] - 0s 53us/sample - loss: 0.9469 - acc: 0.5093\n",
      "Epoch 4/100\n",
      "750/750 [==============================] - 0s 52us/sample - loss: 0.8842 - acc: 0.5267\n",
      "Epoch 5/100\n",
      "750/750 [==============================] - 0s 49us/sample - loss: 0.8370 - acc: 0.5480\n",
      "Epoch 6/100\n",
      "750/750 [==============================] - 0s 48us/sample - loss: 0.8023 - acc: 0.5600\n",
      "Epoch 7/100\n",
      "750/750 [==============================] - 0s 48us/sample - loss: 0.7743 - acc: 0.5760\n",
      "Epoch 8/100\n",
      "750/750 [==============================] - 0s 47us/sample - loss: 0.7508 - acc: 0.5827\n",
      "Epoch 9/100\n",
      "750/750 [==============================] - 0s 52us/sample - loss: 0.7316 - acc: 0.5933\n",
      "Epoch 10/100\n",
      "750/750 [==============================] - 0s 47us/sample - loss: 0.7146 - acc: 0.6040\n",
      "Epoch 11/100\n",
      "750/750 [==============================] - 0s 52us/sample - loss: 0.6998 - acc: 0.6107\n",
      "Epoch 12/100\n",
      "750/750 [==============================] - 0s 49us/sample - loss: 0.6863 - acc: 0.6200\n",
      "Epoch 13/100\n",
      "750/750 [==============================] - 0s 49us/sample - loss: 0.6745 - acc: 0.6320\n",
      "Epoch 14/100\n",
      "750/750 [==============================] - 0s 48us/sample - loss: 0.6633 - acc: 0.6360\n",
      "Epoch 15/100\n",
      "750/750 [==============================] - 0s 49us/sample - loss: 0.6532 - acc: 0.6387\n",
      "Epoch 16/100\n",
      "750/750 [==============================] - 0s 47us/sample - loss: 0.6435 - acc: 0.6427\n",
      "Epoch 17/100\n",
      "750/750 [==============================] - 0s 53us/sample - loss: 0.6345 - acc: 0.6467\n",
      "Epoch 18/100\n",
      "750/750 [==============================] - 0s 49us/sample - loss: 0.6258 - acc: 0.6560\n",
      "Epoch 19/100\n",
      "750/750 [==============================] - 0s 53us/sample - loss: 0.6177 - acc: 0.6587\n",
      "Epoch 20/100\n",
      "750/750 [==============================] - 0s 48us/sample - loss: 0.6098 - acc: 0.6587\n",
      "Epoch 21/100\n",
      "750/750 [==============================] - 0s 52us/sample - loss: 0.6024 - acc: 0.6640\n",
      "Epoch 22/100\n",
      "750/750 [==============================] - 0s 52us/sample - loss: 0.5953 - acc: 0.6693\n",
      "Epoch 23/100\n",
      "750/750 [==============================] - 0s 48us/sample - loss: 0.5886 - acc: 0.6760\n",
      "Epoch 24/100\n",
      "750/750 [==============================] - 0s 51us/sample - loss: 0.5822 - acc: 0.6787\n",
      "Epoch 25/100\n",
      "750/750 [==============================] - 0s 51us/sample - loss: 0.5762 - acc: 0.6787\n",
      "Epoch 26/100\n",
      "750/750 [==============================] - 0s 53us/sample - loss: 0.5704 - acc: 0.6787\n",
      "Epoch 27/100\n",
      "750/750 [==============================] - 0s 53us/sample - loss: 0.5646 - acc: 0.6867\n",
      "Epoch 28/100\n",
      "750/750 [==============================] - 0s 51us/sample - loss: 0.5591 - acc: 0.6880\n",
      "Epoch 29/100\n",
      "750/750 [==============================] - 0s 55us/sample - loss: 0.5538 - acc: 0.6893\n",
      "Epoch 30/100\n",
      "750/750 [==============================] - 0s 51us/sample - loss: 0.5486 - acc: 0.6933\n",
      "Epoch 31/100\n",
      "750/750 [==============================] - 0s 51us/sample - loss: 0.5436 - acc: 0.6973\n",
      "Epoch 32/100\n",
      "750/750 [==============================] - 0s 49us/sample - loss: 0.5387 - acc: 0.7000\n",
      "Epoch 33/100\n",
      "750/750 [==============================] - 0s 49us/sample - loss: 0.5338 - acc: 0.7027\n",
      "Epoch 34/100\n",
      "750/750 [==============================] - 0s 48us/sample - loss: 0.5293 - acc: 0.7067\n",
      "Epoch 35/100\n",
      "750/750 [==============================] - 0s 51us/sample - loss: 0.5248 - acc: 0.7107\n",
      "Epoch 36/100\n",
      "750/750 [==============================] - 0s 52us/sample - loss: 0.5202 - acc: 0.7160\n",
      "Epoch 37/100\n",
      "750/750 [==============================] - 0s 51us/sample - loss: 0.5160 - acc: 0.7187\n",
      "Epoch 38/100\n",
      "750/750 [==============================] - 0s 51us/sample - loss: 0.5115 - acc: 0.7240\n",
      "Epoch 39/100\n",
      "750/750 [==============================] - 0s 47us/sample - loss: 0.5071 - acc: 0.7293\n",
      "Epoch 40/100\n",
      "750/750 [==============================] - 0s 55us/sample - loss: 0.5029 - acc: 0.7293\n",
      "Epoch 41/100\n",
      "750/750 [==============================] - 0s 48us/sample - loss: 0.4984 - acc: 0.7307\n",
      "Epoch 42/100\n",
      "750/750 [==============================] - 0s 48us/sample - loss: 0.4941 - acc: 0.7347\n",
      "Epoch 43/100\n",
      "750/750 [==============================] - 0s 49us/sample - loss: 0.4898 - acc: 0.7347\n",
      "Epoch 44/100\n",
      "750/750 [==============================] - 0s 49us/sample - loss: 0.4856 - acc: 0.7373\n",
      "Epoch 45/100\n",
      "750/750 [==============================] - 0s 48us/sample - loss: 0.4813 - acc: 0.7387\n",
      "Epoch 46/100\n",
      "750/750 [==============================] - 0s 48us/sample - loss: 0.4770 - acc: 0.7413\n",
      "Epoch 47/100\n",
      "750/750 [==============================] - 0s 52us/sample - loss: 0.4726 - acc: 0.7453\n",
      "Epoch 48/100\n",
      "750/750 [==============================] - 0s 51us/sample - loss: 0.4683 - acc: 0.7507\n",
      "Epoch 49/100\n",
      "750/750 [==============================] - 0s 52us/sample - loss: 0.4641 - acc: 0.7533\n",
      "Epoch 50/100\n",
      "750/750 [==============================] - 0s 51us/sample - loss: 0.4599 - acc: 0.7587\n",
      "Epoch 51/100\n",
      "750/750 [==============================] - 0s 52us/sample - loss: 0.4558 - acc: 0.7613\n",
      "Epoch 52/100\n",
      "750/750 [==============================] - 0s 51us/sample - loss: 0.4513 - acc: 0.7640\n",
      "Epoch 53/100\n",
      "750/750 [==============================] - 0s 51us/sample - loss: 0.4467 - acc: 0.7667\n",
      "Epoch 54/100\n",
      "750/750 [==============================] - 0s 49us/sample - loss: 0.4419 - acc: 0.7693\n",
      "Epoch 55/100\n",
      "750/750 [==============================] - 0s 53us/sample - loss: 0.4375 - acc: 0.7747\n",
      "Epoch 56/100\n",
      "750/750 [==============================] - 0s 49us/sample - loss: 0.4328 - acc: 0.7760\n",
      "Epoch 57/100\n",
      "750/750 [==============================] - 0s 53us/sample - loss: 0.4285 - acc: 0.7773\n",
      "Epoch 58/100\n",
      "750/750 [==============================] - 0s 51us/sample - loss: 0.4242 - acc: 0.7787\n",
      "Epoch 59/100\n",
      "750/750 [==============================] - 0s 52us/sample - loss: 0.4199 - acc: 0.7840\n",
      "Epoch 60/100\n",
      "750/750 [==============================] - 0s 53us/sample - loss: 0.4153 - acc: 0.7867\n",
      "Epoch 61/100\n",
      "750/750 [==============================] - 0s 53us/sample - loss: 0.4108 - acc: 0.7893\n",
      "Epoch 62/100\n",
      "750/750 [==============================] - 0s 51us/sample - loss: 0.4063 - acc: 0.7947\n",
      "Epoch 63/100\n",
      "750/750 [==============================] - 0s 53us/sample - loss: 0.4020 - acc: 0.8040\n",
      "Epoch 64/100\n",
      "750/750 [==============================] - 0s 53us/sample - loss: 0.3977 - acc: 0.8093\n",
      "Epoch 65/100\n",
      "750/750 [==============================] - 0s 49us/sample - loss: 0.3933 - acc: 0.8120\n",
      "Epoch 66/100\n",
      "750/750 [==============================] - 0s 49us/sample - loss: 0.3890 - acc: 0.8120\n",
      "Epoch 67/100\n",
      "750/750 [==============================] - 0s 52us/sample - loss: 0.3847 - acc: 0.8147\n",
      "Epoch 68/100\n",
      "750/750 [==============================] - 0s 49us/sample - loss: 0.3807 - acc: 0.8173\n",
      "Epoch 69/100\n",
      "750/750 [==============================] - 0s 52us/sample - loss: 0.3765 - acc: 0.8200\n",
      "Epoch 70/100\n",
      "750/750 [==============================] - 0s 55us/sample - loss: 0.3722 - acc: 0.8213\n",
      "Epoch 71/100\n",
      "750/750 [==============================] - 0s 55us/sample - loss: 0.3683 - acc: 0.8227\n",
      "Epoch 72/100\n",
      "750/750 [==============================] - 0s 53us/sample - loss: 0.3642 - acc: 0.8267\n",
      "Epoch 73/100\n",
      "750/750 [==============================] - 0s 52us/sample - loss: 0.3604 - acc: 0.8267\n",
      "Epoch 74/100\n",
      "750/750 [==============================] - 0s 51us/sample - loss: 0.3564 - acc: 0.8280\n",
      "Epoch 75/100\n",
      "750/750 [==============================] - 0s 52us/sample - loss: 0.3526 - acc: 0.8307\n",
      "Epoch 76/100\n",
      "750/750 [==============================] - 0s 48us/sample - loss: 0.3489 - acc: 0.8320\n",
      "Epoch 77/100\n",
      "750/750 [==============================] - 0s 59us/sample - loss: 0.3452 - acc: 0.8373\n",
      "Epoch 78/100\n",
      "750/750 [==============================] - 0s 53us/sample - loss: 0.3414 - acc: 0.8400\n",
      "Epoch 79/100\n",
      "750/750 [==============================] - 0s 55us/sample - loss: 0.3377 - acc: 0.8413\n",
      "Epoch 80/100\n",
      "750/750 [==============================] - 0s 49us/sample - loss: 0.3339 - acc: 0.8440\n",
      "Epoch 81/100\n",
      "750/750 [==============================] - 0s 51us/sample - loss: 0.3304 - acc: 0.8493\n",
      "Epoch 82/100\n",
      "750/750 [==============================] - 0s 51us/sample - loss: 0.3270 - acc: 0.8507\n",
      "Epoch 83/100\n"
     ]
    },
    {
     "name": "stdout",
     "output_type": "stream",
     "text": [
      "750/750 [==============================] - 0s 49us/sample - loss: 0.3239 - acc: 0.8507\n",
      "Epoch 84/100\n",
      "750/750 [==============================] - 0s 49us/sample - loss: 0.3210 - acc: 0.8520\n",
      "Epoch 85/100\n",
      "750/750 [==============================] - 0s 48us/sample - loss: 0.3181 - acc: 0.8560\n",
      "Epoch 86/100\n",
      "750/750 [==============================] - 0s 48us/sample - loss: 0.3155 - acc: 0.8587\n",
      "Epoch 87/100\n",
      "750/750 [==============================] - 0s 47us/sample - loss: 0.3131 - acc: 0.8627\n",
      "Epoch 88/100\n",
      "750/750 [==============================] - 0s 51us/sample - loss: 0.3108 - acc: 0.8653\n",
      "Epoch 89/100\n",
      "750/750 [==============================] - 0s 49us/sample - loss: 0.3086 - acc: 0.8667\n",
      "Epoch 90/100\n",
      "750/750 [==============================] - 0s 48us/sample - loss: 0.3066 - acc: 0.8680\n",
      "Epoch 91/100\n",
      "750/750 [==============================] - 0s 49us/sample - loss: 0.3047 - acc: 0.8680\n",
      "Epoch 92/100\n",
      "750/750 [==============================] - 0s 55us/sample - loss: 0.3030 - acc: 0.8693\n",
      "Epoch 93/100\n",
      "750/750 [==============================] - 0s 56us/sample - loss: 0.3013 - acc: 0.8707\n",
      "Epoch 94/100\n",
      "750/750 [==============================] - 0s 52us/sample - loss: 0.2997 - acc: 0.8707\n",
      "Epoch 95/100\n",
      "750/750 [==============================] - 0s 52us/sample - loss: 0.2982 - acc: 0.8733\n",
      "Epoch 96/100\n",
      "750/750 [==============================] - 0s 52us/sample - loss: 0.2968 - acc: 0.8760\n",
      "Epoch 97/100\n",
      "750/750 [==============================] - 0s 52us/sample - loss: 0.2955 - acc: 0.8787\n",
      "Epoch 98/100\n",
      "750/750 [==============================] - 0s 51us/sample - loss: 0.2942 - acc: 0.8787\n",
      "Epoch 99/100\n",
      "750/750 [==============================] - 0s 52us/sample - loss: 0.2930 - acc: 0.8787\n",
      "Epoch 100/100\n",
      "750/750 [==============================] - 0s 48us/sample - loss: 0.2919 - acc: 0.8813\n"
     ]
    }
   ],
   "source": [
    "# Training the model with the nonlinear data\n",
    "model_moon = nn_model.fit(X_moon_train_scaled, y_moon_train, epochs=100, shuffle=True)"
   ]
  },
  {
   "cell_type": "code",
   "execution_count": 53,
   "metadata": {},
   "outputs": [
    {
     "data": {
      "text/plain": [
       "<matplotlib.axes._subplots.AxesSubplot at 0x1ba519baf08>"
      ]
     },
     "execution_count": 53,
     "metadata": {},
     "output_type": "execute_result"
    },
    {
     "data": {
      "image/png": "[encoded data removed]",
      "text/plain": [
       "<Figure size 432x288 with 1 Axes>"
      ]
     },
     "metadata": {
      "needs_background": "light"
     },
     "output_type": "display_data"
    }
   ],
   "source": [
    "# Create a DataFrame containing training history\n",
    "history_df = pd.DataFrame(model_moon.history, index=range(1,len(model_moon.history[\"loss\"])+1))\n",
    "\n",
    "# Plot the loss\n",
    "history_df.plot(y=\"loss\")"
   ]
  },
  {
   "cell_type": "markdown",
   "metadata": {},
   "source": [
    "# ADD more hidden layers"
   ]
  },
  {
   "cell_type": "code",
   "execution_count": 55,
   "metadata": {},
   "outputs": [],
   "source": [
    "# Generate our new Sequential model\n",
    "new_model = tf.keras.models.Sequential()"
   ]
  },
  {
   "cell_type": "code",
   "execution_count": 56,
   "metadata": {},
   "outputs": [],
   "source": [
    "# Add the input and hidden layer\n",
    "number_inputs = 2\n",
    "number_hidden_nodes = 6\n",
    "\n",
    "new_model.add(tf.keras.layers.Dense(units=number_hidden_nodes, activation=\"relu\", input_dim=number_inputs))\n",
    "\n",
    "# Add the output layer that uses a probability activation function\n",
    "new_model.add(tf.keras.layers.Dense(units=1, activation=\"sigmoid\"))"
   ]
  },
  {
   "cell_type": "code",
   "execution_count": 57,
   "metadata": {},
   "outputs": [
    {
     "name": "stdout",
     "output_type": "stream",
     "text": [
      "Epoch 1/100\n",
      "750/750 [==============================] - 0s 383us/sample - loss: 0.5552 - acc: 0.8667\n",
      "Epoch 2/100\n",
      "750/750 [==============================] - 0s 69us/sample - loss: 0.5311 - acc: 0.8693\n",
      "Epoch 3/100\n",
      "750/750 [==============================] - 0s 61us/sample - loss: 0.5088 - acc: 0.8707\n",
      "Epoch 4/100\n",
      "750/750 [==============================] - 0s 64us/sample - loss: 0.4870 - acc: 0.8693\n",
      "Epoch 5/100\n",
      "750/750 [==============================] - 0s 87us/sample - loss: 0.4664 - acc: 0.8680\n",
      "Epoch 6/100\n",
      "750/750 [==============================] - 0s 77us/sample - loss: 0.4468 - acc: 0.8680\n",
      "Epoch 7/100\n",
      "750/750 [==============================] - 0s 96us/sample - loss: 0.4281 - acc: 0.8680\n",
      "Epoch 8/100\n",
      "750/750 [==============================] - 0s 65us/sample - loss: 0.4102 - acc: 0.8680\n",
      "Epoch 9/100\n",
      "750/750 [==============================] - 0s 75us/sample - loss: 0.3939 - acc: 0.8680\n",
      "Epoch 10/100\n",
      "750/750 [==============================] - 0s 63us/sample - loss: 0.3789 - acc: 0.8680\n",
      "Epoch 11/100\n",
      "750/750 [==============================] - 0s 65us/sample - loss: 0.3650 - acc: 0.8680\n",
      "Epoch 12/100\n",
      "750/750 [==============================] - 0s 69us/sample - loss: 0.3527 - acc: 0.8680\n",
      "Epoch 13/100\n",
      "750/750 [==============================] - 0s 59us/sample - loss: 0.3417 - acc: 0.8680\n",
      "Epoch 14/100\n",
      "750/750 [==============================] - 0s 61us/sample - loss: 0.3317 - acc: 0.8693\n",
      "Epoch 15/100\n",
      "750/750 [==============================] - 0s 63us/sample - loss: 0.3232 - acc: 0.8693\n",
      "Epoch 16/100\n",
      "750/750 [==============================] - 0s 77us/sample - loss: 0.3154 - acc: 0.8720\n",
      "Epoch 17/100\n",
      "750/750 [==============================] - 0s 53us/sample - loss: 0.3086 - acc: 0.8747\n",
      "Epoch 18/100\n",
      "750/750 [==============================] - 0s 59us/sample - loss: 0.3027 - acc: 0.8747\n",
      "Epoch 19/100\n",
      "750/750 [==============================] - 0s 61us/sample - loss: 0.2973 - acc: 0.8747\n",
      "Epoch 20/100\n",
      "750/750 [==============================] - 0s 79us/sample - loss: 0.2925 - acc: 0.8773\n",
      "Epoch 21/100\n",
      "750/750 [==============================] - 0s 56us/sample - loss: 0.2881 - acc: 0.8773\n",
      "Epoch 22/100\n",
      "750/750 [==============================] - 0s 57us/sample - loss: 0.2839 - acc: 0.8787\n",
      "Epoch 23/100\n",
      "750/750 [==============================] - 0s 57us/sample - loss: 0.2803 - acc: 0.8787\n",
      "Epoch 24/100\n",
      "750/750 [==============================] - 0s 59us/sample - loss: 0.2766 - acc: 0.8800\n",
      "Epoch 25/100\n",
      "750/750 [==============================] - 0s 71us/sample - loss: 0.2736 - acc: 0.8800\n",
      "Epoch 26/100\n",
      "750/750 [==============================] - 0s 67us/sample - loss: 0.2708 - acc: 0.8800\n",
      "Epoch 27/100\n",
      "750/750 [==============================] - 0s 68us/sample - loss: 0.2680 - acc: 0.8800\n",
      "Epoch 28/100\n",
      "750/750 [==============================] - 0s 59us/sample - loss: 0.2656 - acc: 0.8800\n",
      "Epoch 29/100\n",
      "750/750 [==============================] - 0s 64us/sample - loss: 0.2632 - acc: 0.8813\n",
      "Epoch 30/100\n",
      "750/750 [==============================] - 0s 55us/sample - loss: 0.2611 - acc: 0.8853\n",
      "Epoch 31/100\n",
      "750/750 [==============================] - 0s 61us/sample - loss: 0.2591 - acc: 0.8853\n",
      "Epoch 32/100\n",
      "750/750 [==============================] - 0s 63us/sample - loss: 0.2572 - acc: 0.8880\n",
      "Epoch 33/100\n",
      "750/750 [==============================] - 0s 57us/sample - loss: 0.2553 - acc: 0.8920\n",
      "Epoch 34/100\n",
      "750/750 [==============================] - 0s 60us/sample - loss: 0.2536 - acc: 0.8920\n",
      "Epoch 35/100\n",
      "750/750 [==============================] - 0s 76us/sample - loss: 0.2519 - acc: 0.8933\n",
      "Epoch 36/100\n",
      "750/750 [==============================] - 0s 76us/sample - loss: 0.2505 - acc: 0.8960\n",
      "Epoch 37/100\n",
      "750/750 [==============================] - 0s 64us/sample - loss: 0.2489 - acc: 0.8960\n",
      "Epoch 38/100\n",
      "750/750 [==============================] - 0s 67us/sample - loss: 0.2477 - acc: 0.8960\n",
      "Epoch 39/100\n",
      "750/750 [==============================] - 0s 65us/sample - loss: 0.2464 - acc: 0.8960\n",
      "Epoch 40/100\n",
      "750/750 [==============================] - 0s 92us/sample - loss: 0.2453 - acc: 0.8960\n",
      "Epoch 41/100\n",
      "750/750 [==============================] - 0s 63us/sample - loss: 0.2441 - acc: 0.8973\n",
      "Epoch 42/100\n",
      "750/750 [==============================] - 0s 61us/sample - loss: 0.2432 - acc: 0.8973\n",
      "Epoch 43/100\n",
      "750/750 [==============================] - 0s 55us/sample - loss: 0.2423 - acc: 0.8960\n",
      "Epoch 44/100\n",
      "750/750 [==============================] - 0s 82us/sample - loss: 0.2411 - acc: 0.8947\n",
      "Epoch 45/100\n",
      "750/750 [==============================] - 0s 96us/sample - loss: 0.2402 - acc: 0.8947\n",
      "Epoch 46/100\n",
      "750/750 [==============================] - 0s 68us/sample - loss: 0.2393 - acc: 0.8947\n",
      "Epoch 47/100\n",
      "750/750 [==============================] - 0s 93us/sample - loss: 0.2383 - acc: 0.8933\n",
      "Epoch 48/100\n",
      "750/750 [==============================] - 0s 99us/sample - loss: 0.2374 - acc: 0.8933\n",
      "Epoch 49/100\n",
      "750/750 [==============================] - 0s 95us/sample - loss: 0.2366 - acc: 0.8933\n",
      "Epoch 50/100\n",
      "750/750 [==============================] - 0s 91us/sample - loss: 0.2358 - acc: 0.8933\n",
      "Epoch 51/100\n",
      "750/750 [==============================] - 0s 63us/sample - loss: 0.2350 - acc: 0.8947\n",
      "Epoch 52/100\n",
      "750/750 [==============================] - 0s 108us/sample - loss: 0.2341 - acc: 0.8947\n",
      "Epoch 53/100\n",
      "750/750 [==============================] - 0s 65us/sample - loss: 0.2334 - acc: 0.8947\n",
      "Epoch 54/100\n",
      "750/750 [==============================] - 0s 69us/sample - loss: 0.2326 - acc: 0.8947\n",
      "Epoch 55/100\n",
      "750/750 [==============================] - 0s 63us/sample - loss: 0.2318 - acc: 0.8947\n",
      "Epoch 56/100\n",
      "750/750 [==============================] - 0s 69us/sample - loss: 0.2310 - acc: 0.8960\n",
      "Epoch 57/100\n",
      "750/750 [==============================] - 0s 68us/sample - loss: 0.2303 - acc: 0.8973\n",
      "Epoch 58/100\n",
      "750/750 [==============================] - 0s 63us/sample - loss: 0.2295 - acc: 0.8973\n",
      "Epoch 59/100\n",
      "750/750 [==============================] - 0s 61us/sample - loss: 0.2287 - acc: 0.8973\n",
      "Epoch 60/100\n",
      "750/750 [==============================] - 0s 69us/sample - loss: 0.2279 - acc: 0.8973\n",
      "Epoch 61/100\n",
      "750/750 [==============================] - 0s 53us/sample - loss: 0.2273 - acc: 0.8973\n",
      "Epoch 62/100\n",
      "750/750 [==============================] - 0s 59us/sample - loss: 0.2265 - acc: 0.8973\n",
      "Epoch 63/100\n",
      "750/750 [==============================] - 0s 59us/sample - loss: 0.2258 - acc: 0.8973\n",
      "Epoch 64/100\n",
      "750/750 [==============================] - 0s 59us/sample - loss: 0.2251 - acc: 0.8960\n",
      "Epoch 65/100\n",
      "750/750 [==============================] - 0s 52us/sample - loss: 0.2241 - acc: 0.8973\n",
      "Epoch 66/100\n",
      "750/750 [==============================] - 0s 63us/sample - loss: 0.2233 - acc: 0.8973\n",
      "Epoch 67/100\n",
      "750/750 [==============================] - 0s 55us/sample - loss: 0.2226 - acc: 0.8987\n",
      "Epoch 68/100\n",
      "750/750 [==============================] - 0s 57us/sample - loss: 0.2219 - acc: 0.8987\n",
      "Epoch 69/100\n",
      "750/750 [==============================] - 0s 61us/sample - loss: 0.2212 - acc: 0.8987\n",
      "Epoch 70/100\n",
      "750/750 [==============================] - ETA: 0s - loss: 0.1014 - acc: 0.968 - 0s 51us/sample - loss: 0.2205 - acc: 0.8987\n",
      "Epoch 71/100\n",
      "750/750 [==============================] - 0s 53us/sample - loss: 0.2199 - acc: 0.8973\n",
      "Epoch 72/100\n",
      "750/750 [==============================] - 0s 57us/sample - loss: 0.2190 - acc: 0.8987\n",
      "Epoch 73/100\n",
      "750/750 [==============================] - 0s 56us/sample - loss: 0.2183 - acc: 0.8987\n",
      "Epoch 74/100\n",
      "750/750 [==============================] - 0s 57us/sample - loss: 0.2177 - acc: 0.8987\n",
      "Epoch 75/100\n",
      "750/750 [==============================] - 0s 56us/sample - loss: 0.2170 - acc: 0.8987\n",
      "Epoch 76/100\n",
      "750/750 [==============================] - 0s 57us/sample - loss: 0.2162 - acc: 0.8987\n",
      "Epoch 77/100\n",
      "750/750 [==============================] - ETA: 0s - loss: 0.4613 - acc: 0.781 - 0s 51us/sample - loss: 0.2156 - acc: 0.8973\n",
      "Epoch 78/100\n",
      "750/750 [==============================] - 0s 63us/sample - loss: 0.2149 - acc: 0.8987\n",
      "Epoch 79/100\n",
      "750/750 [==============================] - 0s 65us/sample - loss: 0.2143 - acc: 0.8973\n",
      "Epoch 80/100\n",
      "750/750 [==============================] - 0s 53us/sample - loss: 0.2135 - acc: 0.8973\n",
      "Epoch 81/100\n",
      "750/750 [==============================] - 0s 52us/sample - loss: 0.2129 - acc: 0.9000\n",
      "Epoch 82/100\n"
     ]
    },
    {
     "name": "stdout",
     "output_type": "stream",
     "text": [
      "750/750 [==============================] - 0s 68us/sample - loss: 0.2124 - acc: 0.9000\n",
      "Epoch 83/100\n",
      "750/750 [==============================] - 0s 59us/sample - loss: 0.2117 - acc: 0.8987\n",
      "Epoch 84/100\n",
      "750/750 [==============================] - 0s 53us/sample - loss: 0.2110 - acc: 0.9000\n",
      "Epoch 85/100\n",
      "750/750 [==============================] - 0s 49us/sample - loss: 0.2103 - acc: 0.9000\n",
      "Epoch 86/100\n",
      "750/750 [==============================] - 0s 51us/sample - loss: 0.2097 - acc: 0.8987\n",
      "Epoch 87/100\n",
      "750/750 [==============================] - 0s 55us/sample - loss: 0.2091 - acc: 0.9013\n",
      "Epoch 88/100\n",
      "750/750 [==============================] - 0s 56us/sample - loss: 0.2084 - acc: 0.9000\n",
      "Epoch 89/100\n",
      "750/750 [==============================] - 0s 48us/sample - loss: 0.2079 - acc: 0.8987\n",
      "Epoch 90/100\n",
      "750/750 [==============================] - 0s 53us/sample - loss: 0.2072 - acc: 0.9013\n",
      "Epoch 91/100\n",
      "750/750 [==============================] - 0s 60us/sample - loss: 0.2068 - acc: 0.9013\n",
      "Epoch 92/100\n",
      "750/750 [==============================] - 0s 57us/sample - loss: 0.2063 - acc: 0.9013\n",
      "Epoch 93/100\n",
      "750/750 [==============================] - 0s 59us/sample - loss: 0.2057 - acc: 0.9013\n",
      "Epoch 94/100\n",
      "750/750 [==============================] - 0s 53us/sample - loss: 0.2051 - acc: 0.9040\n",
      "Epoch 95/100\n",
      "750/750 [==============================] - 0s 53us/sample - loss: 0.2047 - acc: 0.9040\n",
      "Epoch 96/100\n",
      "750/750 [==============================] - 0s 52us/sample - loss: 0.2040 - acc: 0.9040\n",
      "Epoch 97/100\n",
      "750/750 [==============================] - 0s 48us/sample - loss: 0.2036 - acc: 0.9027\n",
      "Epoch 98/100\n",
      "750/750 [==============================] - 0s 51us/sample - loss: 0.2028 - acc: 0.9027\n",
      "Epoch 99/100\n",
      "750/750 [==============================] - 0s 64us/sample - loss: 0.2023 - acc: 0.9027\n",
      "Epoch 100/100\n",
      "750/750 [==============================] - 0s 48us/sample - loss: 0.2018 - acc: 0.9040\n"
     ]
    }
   ],
   "source": [
    "# Compile the Sequential model together and customize metrics\n",
    "new_model.compile(loss=\"binary_crossentropy\", optimizer=\"adam\", metrics=[\"accuracy\"])\n",
    "\n",
    "# Fit the model to the training data\n",
    "new_fit_model = new_model.fit(X_moon_train_scaled, y_moon_train, epochs=100, shuffle=True)"
   ]
  },
  {
   "cell_type": "code",
   "execution_count": null,
   "metadata": {},
   "outputs": [],
   "source": []
  }
 ],
 "metadata": {
  "kernelspec": {
   "display_name": "mlenv",
   "language": "python",
   "name": "mlenv"
  },
  "language_info": {
   "codemirror_mode": {
    "name": "ipython",
    "version": 3
   },
   "file_extension": ".py",
   "mimetype": "text/x-python",
   "name": "python",
   "nbconvert_exporter": "python",
   "pygments_lexer": "ipython3",
   "version": "3.7.7"
  }
 },
 "nbformat": 4,
 "nbformat_minor": 4
}
