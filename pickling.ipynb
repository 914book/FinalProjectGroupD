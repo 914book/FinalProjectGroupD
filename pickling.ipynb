{
 "cells": [
  {
   "cell_type": "code",
   "execution_count": 1,
   "metadata": {},
   "outputs": [],
   "source": [
    "import pickle\n",
    "import numpy as np\n",
    "import pandas as pd"
   ]
  },
  {
   "cell_type": "markdown",
   "metadata": {},
   "source": [
    "pickle.dump(rf_model, open('model.pkl','wb'))\n",
    "rf_model = pickle.load(open('model.pkl','rb'))\n",
    "pickle.dump(classifier, open('linearreg.pkl','wb'))\n",
    "pickle.dump(scaler, open('scaler.pkl','wb'))\n",
    "pickle.dump(enc, open('encoder.pkl','wb'))\n",
    "pickle.dump(encz, open('encoderz.pkl','wb'))"
   ]
  },
  {
   "cell_type": "code",
   "execution_count": 2,
   "metadata": {},
   "outputs": [
    {
     "data": {
      "text/plain": [
       "['11367', '3', '3', '1980', 'Queens County', '0.034581', '0.141027']"
      ]
     },
     "execution_count": 2,
     "metadata": {},
     "output_type": "execute_result"
    }
   ],
   "source": [
    "predict=[]\n",
    "predict=['11367', '3','3','1980','Queens County','0.034581', '0.141027']\n",
    "predict"
   ]
  },
  {
   "cell_type": "markdown",
   "metadata": {},
   "source": [
    "## Boroughs"
   ]
  },
  {
   "cell_type": "markdown",
   "metadata": {},
   "source": [
    "Load encoder"
   ]
  },
  {
   "cell_type": "code",
   "execution_count": 3,
   "metadata": {},
   "outputs": [],
   "source": [
    "enc=pickle.load(open('encoder.pkl','rb'))"
   ]
  },
  {
   "cell_type": "markdown",
   "metadata": {},
   "source": [
    "Apply encoder to create `boro_` columns"
   ]
  },
  {
   "cell_type": "code",
   "execution_count": 4,
   "metadata": {},
   "outputs": [],
   "source": [
    "part_a = pd.DataFrame.from_records(\n",
    "    enc.transform(np.array([[predict[4].ljust(50, \" \")]])),\n",
    "    columns=enc.get_feature_names(['boro'])\n",
    ")"
   ]
  },
  {
   "cell_type": "code",
   "execution_count": 5,
   "metadata": {},
   "outputs": [
    {
     "data": {
      "text/html": [
       "<div>\n",
       "<style scoped>\n",
       "    .dataframe tbody tr th:only-of-type {\n",
       "        vertical-align: middle;\n",
       "    }\n",
       "\n",
       "    .dataframe tbody tr th {\n",
       "        vertical-align: top;\n",
       "    }\n",
       "\n",
       "    .dataframe thead th {\n",
       "        text-align: right;\n",
       "    }\n",
       "</style>\n",
       "<table border=\"1\" class=\"dataframe\">\n",
       "  <thead>\n",
       "    <tr style=\"text-align: right;\">\n",
       "      <th></th>\n",
       "      <th>boro_Kings County</th>\n",
       "      <th>boro_New York County</th>\n",
       "      <th>boro_Queens County</th>\n",
       "      <th>boro_Richmond County</th>\n",
       "    </tr>\n",
       "  </thead>\n",
       "  <tbody>\n",
       "    <tr>\n",
       "      <th>0</th>\n",
       "      <td>0.0</td>\n",
       "      <td>0.0</td>\n",
       "      <td>1.0</td>\n",
       "      <td>0.0</td>\n",
       "    </tr>\n",
       "  </tbody>\n",
       "</table>\n",
       "</div>"
      ],
      "text/plain": [
       "   boro_Kings County                                        \\\n",
       "0                                                0.0         \n",
       "\n",
       "   boro_New York County                                     \\\n",
       "0                                                0.0         \n",
       "\n",
       "   boro_Queens County                                       \\\n",
       "0                                                1.0         \n",
       "\n",
       "   boro_Richmond County                                     \n",
       "0                                                0.0        "
      ]
     },
     "execution_count": 5,
     "metadata": {},
     "output_type": "execute_result"
    }
   ],
   "source": [
    "part_a"
   ]
  },
  {
   "cell_type": "markdown",
   "metadata": {},
   "source": [
    "## ZIP codes"
   ]
  },
  {
   "cell_type": "code",
   "execution_count": 6,
   "metadata": {},
   "outputs": [],
   "source": [
    "encz=pickle.load(open('encoderz.pkl','rb'))"
   ]
  },
  {
   "cell_type": "markdown",
   "metadata": {},
   "source": [
    "Apply encoder to create zip_ columns"
   ]
  },
  {
   "cell_type": "code",
   "execution_count": 7,
   "metadata": {},
   "outputs": [],
   "source": [
    "part_b = pd.DataFrame.from_records(\n",
    "    encz.transform(np.array([[predict[0]]])),\n",
    "    columns=encz.get_feature_names(['zip'])\n",
    ")"
   ]
  },
  {
   "cell_type": "code",
   "execution_count": 8,
   "metadata": {},
   "outputs": [
    {
     "data": {
      "text/html": [
       "<div>\n",
       "<style scoped>\n",
       "    .dataframe tbody tr th:only-of-type {\n",
       "        vertical-align: middle;\n",
       "    }\n",
       "\n",
       "    .dataframe tbody tr th {\n",
       "        vertical-align: top;\n",
       "    }\n",
       "\n",
       "    .dataframe thead th {\n",
       "        text-align: right;\n",
       "    }\n",
       "</style>\n",
       "<table border=\"1\" class=\"dataframe\">\n",
       "  <thead>\n",
       "    <tr style=\"text-align: right;\">\n",
       "      <th></th>\n",
       "      <th>zip_10002</th>\n",
       "      <th>zip_10003</th>\n",
       "      <th>zip_10004</th>\n",
       "      <th>zip_10005</th>\n",
       "      <th>zip_10006</th>\n",
       "      <th>zip_10007</th>\n",
       "      <th>zip_10009</th>\n",
       "      <th>zip_10010</th>\n",
       "      <th>zip_10011</th>\n",
       "      <th>zip_10012</th>\n",
       "      <th>...</th>\n",
       "      <th>zip_11426</th>\n",
       "      <th>zip_11427</th>\n",
       "      <th>zip_11428</th>\n",
       "      <th>zip_11429</th>\n",
       "      <th>zip_11430</th>\n",
       "      <th>zip_11432</th>\n",
       "      <th>zip_11433</th>\n",
       "      <th>zip_11434</th>\n",
       "      <th>zip_11435</th>\n",
       "      <th>zip_11436</th>\n",
       "    </tr>\n",
       "  </thead>\n",
       "  <tbody>\n",
       "    <tr>\n",
       "      <th>0</th>\n",
       "      <td>0.0</td>\n",
       "      <td>0.0</td>\n",
       "      <td>0.0</td>\n",
       "      <td>0.0</td>\n",
       "      <td>0.0</td>\n",
       "      <td>0.0</td>\n",
       "      <td>0.0</td>\n",
       "      <td>0.0</td>\n",
       "      <td>0.0</td>\n",
       "      <td>0.0</td>\n",
       "      <td>...</td>\n",
       "      <td>0.0</td>\n",
       "      <td>0.0</td>\n",
       "      <td>0.0</td>\n",
       "      <td>0.0</td>\n",
       "      <td>0.0</td>\n",
       "      <td>0.0</td>\n",
       "      <td>0.0</td>\n",
       "      <td>0.0</td>\n",
       "      <td>0.0</td>\n",
       "      <td>0.0</td>\n",
       "    </tr>\n",
       "  </tbody>\n",
       "</table>\n",
       "<p>1 rows × 158 columns</p>\n",
       "</div>"
      ],
      "text/plain": [
       "   zip_10002  zip_10003  zip_10004  zip_10005  zip_10006  zip_10007  \\\n",
       "0        0.0        0.0        0.0        0.0        0.0        0.0   \n",
       "\n",
       "   zip_10009  zip_10010  zip_10011  zip_10012  ...  zip_11426  zip_11427  \\\n",
       "0        0.0        0.0        0.0        0.0  ...        0.0        0.0   \n",
       "\n",
       "   zip_11428  zip_11429  zip_11430  zip_11432  zip_11433  zip_11434  \\\n",
       "0        0.0        0.0        0.0        0.0        0.0        0.0   \n",
       "\n",
       "   zip_11435  zip_11436  \n",
       "0        0.0        0.0  \n",
       "\n",
       "[1 rows x 158 columns]"
      ]
     },
     "execution_count": 8,
     "metadata": {},
     "output_type": "execute_result"
    }
   ],
   "source": [
    "part_b"
   ]
  },
  {
   "cell_type": "code",
   "execution_count": 9,
   "metadata": {},
   "outputs": [
    {
     "data": {
      "text/plain": [
       "['zip_10002',\n",
       " 'zip_10003',\n",
       " 'zip_10004',\n",
       " 'zip_10005',\n",
       " 'zip_10006',\n",
       " 'zip_10007',\n",
       " 'zip_10009',\n",
       " 'zip_10010',\n",
       " 'zip_10011',\n",
       " 'zip_10012',\n",
       " 'zip_10013',\n",
       " 'zip_10014',\n",
       " 'zip_10016',\n",
       " 'zip_10017',\n",
       " 'zip_10018',\n",
       " 'zip_10019',\n",
       " 'zip_10021',\n",
       " 'zip_10022',\n",
       " 'zip_10023',\n",
       " 'zip_10024',\n",
       " 'zip_10025',\n",
       " 'zip_10026',\n",
       " 'zip_10027',\n",
       " 'zip_10028',\n",
       " 'zip_10029',\n",
       " 'zip_10030',\n",
       " 'zip_10031',\n",
       " 'zip_10032',\n",
       " 'zip_10033',\n",
       " 'zip_10034',\n",
       " 'zip_10035',\n",
       " 'zip_10036',\n",
       " 'zip_10037',\n",
       " 'zip_10038',\n",
       " 'zip_10039',\n",
       " 'zip_10040',\n",
       " 'zip_10044',\n",
       " 'zip_10065',\n",
       " 'zip_10075',\n",
       " 'zip_10128',\n",
       " 'zip_10280',\n",
       " 'zip_10301',\n",
       " 'zip_10302',\n",
       " 'zip_10303',\n",
       " 'zip_10304',\n",
       " 'zip_10305',\n",
       " 'zip_10306',\n",
       " 'zip_10307',\n",
       " 'zip_10308',\n",
       " 'zip_10309',\n",
       " 'zip_10310',\n",
       " 'zip_10312',\n",
       " 'zip_10314',\n",
       " 'zip_10451',\n",
       " 'zip_10452',\n",
       " 'zip_10453',\n",
       " 'zip_10455',\n",
       " 'zip_10456',\n",
       " 'zip_10457',\n",
       " 'zip_10458',\n",
       " 'zip_10459',\n",
       " 'zip_10460',\n",
       " 'zip_10461',\n",
       " 'zip_10462',\n",
       " 'zip_10463',\n",
       " 'zip_10464',\n",
       " 'zip_10465',\n",
       " 'zip_10466',\n",
       " 'zip_10467',\n",
       " 'zip_10468',\n",
       " 'zip_10469',\n",
       " 'zip_10470',\n",
       " 'zip_10471',\n",
       " 'zip_10472',\n",
       " 'zip_10473',\n",
       " 'zip_10475',\n",
       " 'zip_11101',\n",
       " 'zip_11102',\n",
       " 'zip_11103',\n",
       " 'zip_11104',\n",
       " 'zip_11105',\n",
       " 'zip_11106',\n",
       " 'zip_11201',\n",
       " 'zip_11203',\n",
       " 'zip_11205',\n",
       " 'zip_11206',\n",
       " 'zip_11207',\n",
       " 'zip_11208',\n",
       " 'zip_11209',\n",
       " 'zip_11211',\n",
       " 'zip_11212',\n",
       " 'zip_11213',\n",
       " 'zip_11215',\n",
       " 'zip_11216',\n",
       " 'zip_11217',\n",
       " 'zip_11218',\n",
       " 'zip_11220',\n",
       " 'zip_11221',\n",
       " 'zip_11222',\n",
       " 'zip_11223',\n",
       " 'zip_11225',\n",
       " 'zip_11226',\n",
       " 'zip_11228',\n",
       " 'zip_11231',\n",
       " 'zip_11232',\n",
       " 'zip_11233',\n",
       " 'zip_11236',\n",
       " 'zip_11237',\n",
       " 'zip_11238',\n",
       " 'zip_11243',\n",
       " 'zip_11249',\n",
       " 'zip_11354',\n",
       " 'zip_11355',\n",
       " 'zip_11356',\n",
       " 'zip_11357',\n",
       " 'zip_11358',\n",
       " 'zip_11360',\n",
       " 'zip_11361',\n",
       " 'zip_11362',\n",
       " 'zip_11363',\n",
       " 'zip_11364',\n",
       " 'zip_11365',\n",
       " 'zip_11366',\n",
       " 'zip_11367',\n",
       " 'zip_11368',\n",
       " 'zip_11369',\n",
       " 'zip_11370',\n",
       " 'zip_11372',\n",
       " 'zip_11373',\n",
       " 'zip_11374',\n",
       " 'zip_11375',\n",
       " 'zip_11377',\n",
       " 'zip_11378',\n",
       " 'zip_11379',\n",
       " 'zip_11385',\n",
       " 'zip_11411',\n",
       " 'zip_11412',\n",
       " 'zip_11413',\n",
       " 'zip_11414',\n",
       " 'zip_11415',\n",
       " 'zip_11416',\n",
       " 'zip_11417',\n",
       " 'zip_11418',\n",
       " 'zip_11419',\n",
       " 'zip_11420',\n",
       " 'zip_11421',\n",
       " 'zip_11422',\n",
       " 'zip_11423',\n",
       " 'zip_11426',\n",
       " 'zip_11427',\n",
       " 'zip_11428',\n",
       " 'zip_11429',\n",
       " 'zip_11430',\n",
       " 'zip_11432',\n",
       " 'zip_11433',\n",
       " 'zip_11434',\n",
       " 'zip_11435',\n",
       " 'zip_11436']"
      ]
     },
     "execution_count": 9,
     "metadata": {},
     "output_type": "execute_result"
    }
   ],
   "source": [
    "list(part_b)"
   ]
  },
  {
   "cell_type": "markdown",
   "metadata": {},
   "source": [
    "## Scaler"
   ]
  },
  {
   "cell_type": "code",
   "execution_count": 10,
   "metadata": {},
   "outputs": [],
   "source": [
    "scaler=pickle.load(open('scaler.pkl','rb'))"
   ]
  },
  {
   "cell_type": "markdown",
   "metadata": {},
   "source": [
    "Apply scaler to numeric columns"
   ]
  },
  {
   "cell_type": "code",
   "execution_count": 11,
   "metadata": {},
   "outputs": [],
   "source": [
    "part_c=pd.DataFrame.from_records(\n",
    "    scaler.transform(np.array([[int(predict[1]),float(predict[2]),float(predict[3]),float(predict[5]),float(predict[6])]])),\n",
    "    columns=(['beds', 'baths', 'sq_ft', 'Unemployment_rate', 'income_rate'])\n",
    ")"
   ]
  },
  {
   "cell_type": "code",
   "execution_count": 12,
   "metadata": {},
   "outputs": [
    {
     "data": {
      "text/html": [
       "<div>\n",
       "<style scoped>\n",
       "    .dataframe tbody tr th:only-of-type {\n",
       "        vertical-align: middle;\n",
       "    }\n",
       "\n",
       "    .dataframe tbody tr th {\n",
       "        vertical-align: top;\n",
       "    }\n",
       "\n",
       "    .dataframe thead th {\n",
       "        text-align: right;\n",
       "    }\n",
       "</style>\n",
       "<table border=\"1\" class=\"dataframe\">\n",
       "  <thead>\n",
       "    <tr style=\"text-align: right;\">\n",
       "      <th></th>\n",
       "      <th>beds</th>\n",
       "      <th>baths</th>\n",
       "      <th>sq_ft</th>\n",
       "      <th>Unemployment_rate</th>\n",
       "      <th>income_rate</th>\n",
       "    </tr>\n",
       "  </thead>\n",
       "  <tbody>\n",
       "    <tr>\n",
       "      <th>0</th>\n",
       "      <td>0.361618</td>\n",
       "      <td>0.854592</td>\n",
       "      <td>-0.153198</td>\n",
       "      <td>-0.286261</td>\n",
       "      <td>-0.69863</td>\n",
       "    </tr>\n",
       "  </tbody>\n",
       "</table>\n",
       "</div>"
      ],
      "text/plain": [
       "       beds     baths     sq_ft  Unemployment_rate  income_rate\n",
       "0  0.361618  0.854592 -0.153198          -0.286261     -0.69863"
      ]
     },
     "execution_count": 12,
     "metadata": {},
     "output_type": "execute_result"
    }
   ],
   "source": [
    "part_c"
   ]
  },
  {
   "cell_type": "code",
   "execution_count": 13,
   "metadata": {},
   "outputs": [],
   "source": [
    "#pickle.dump(classifier, open('linearreg.pkl','wb'))"
   ]
  },
  {
   "cell_type": "markdown",
   "metadata": {},
   "source": [
    "## Model Linear regression"
   ]
  },
  {
   "cell_type": "code",
   "execution_count": 14,
   "metadata": {},
   "outputs": [
    {
     "data": {
      "text/html": [
       "<div>\n",
       "<style scoped>\n",
       "    .dataframe tbody tr th:only-of-type {\n",
       "        vertical-align: middle;\n",
       "    }\n",
       "\n",
       "    .dataframe tbody tr th {\n",
       "        vertical-align: top;\n",
       "    }\n",
       "\n",
       "    .dataframe thead th {\n",
       "        text-align: right;\n",
       "    }\n",
       "</style>\n",
       "<table border=\"1\" class=\"dataframe\">\n",
       "  <thead>\n",
       "    <tr style=\"text-align: right;\">\n",
       "      <th></th>\n",
       "      <th>beds</th>\n",
       "      <th>baths</th>\n",
       "      <th>sq_ft</th>\n",
       "      <th>Unemployment_rate</th>\n",
       "      <th>income_rate</th>\n",
       "      <th>boro_Kings County</th>\n",
       "      <th>boro_New York County</th>\n",
       "      <th>boro_Queens County</th>\n",
       "      <th>boro_Richmond County</th>\n",
       "      <th>zip_10002</th>\n",
       "      <th>...</th>\n",
       "      <th>zip_11426</th>\n",
       "      <th>zip_11427</th>\n",
       "      <th>zip_11428</th>\n",
       "      <th>zip_11429</th>\n",
       "      <th>zip_11430</th>\n",
       "      <th>zip_11432</th>\n",
       "      <th>zip_11433</th>\n",
       "      <th>zip_11434</th>\n",
       "      <th>zip_11435</th>\n",
       "      <th>zip_11436</th>\n",
       "    </tr>\n",
       "  </thead>\n",
       "  <tbody>\n",
       "    <tr>\n",
       "      <th>0</th>\n",
       "      <td>0.361618</td>\n",
       "      <td>0.854592</td>\n",
       "      <td>-0.153198</td>\n",
       "      <td>-0.286261</td>\n",
       "      <td>-0.69863</td>\n",
       "      <td>0.0</td>\n",
       "      <td>0.0</td>\n",
       "      <td>1.0</td>\n",
       "      <td>0.0</td>\n",
       "      <td>0.0</td>\n",
       "      <td>...</td>\n",
       "      <td>0.0</td>\n",
       "      <td>0.0</td>\n",
       "      <td>0.0</td>\n",
       "      <td>0.0</td>\n",
       "      <td>0.0</td>\n",
       "      <td>0.0</td>\n",
       "      <td>0.0</td>\n",
       "      <td>0.0</td>\n",
       "      <td>0.0</td>\n",
       "      <td>0.0</td>\n",
       "    </tr>\n",
       "  </tbody>\n",
       "</table>\n",
       "<p>1 rows × 167 columns</p>\n",
       "</div>"
      ],
      "text/plain": [
       "       beds     baths     sq_ft  Unemployment_rate  income_rate  \\\n",
       "0  0.361618  0.854592 -0.153198          -0.286261     -0.69863   \n",
       "\n",
       "   boro_Kings County                                        \\\n",
       "0                                                0.0         \n",
       "\n",
       "   boro_New York County                                     \\\n",
       "0                                                0.0         \n",
       "\n",
       "   boro_Queens County                                       \\\n",
       "0                                                1.0         \n",
       "\n",
       "   boro_Richmond County                                     zip_10002  ...  \\\n",
       "0                                                0.0              0.0  ...   \n",
       "\n",
       "   zip_11426  zip_11427  zip_11428  zip_11429  zip_11430  zip_11432  \\\n",
       "0        0.0        0.0        0.0        0.0        0.0        0.0   \n",
       "\n",
       "   zip_11433  zip_11434  zip_11435  zip_11436  \n",
       "0        0.0        0.0        0.0        0.0  \n",
       "\n",
       "[1 rows x 167 columns]"
      ]
     },
     "execution_count": 14,
     "metadata": {},
     "output_type": "execute_result"
    }
   ],
   "source": [
    "from sklearn.linear_model import LinearRegression\n",
    "model_input = pd.concat([part_c,part_a,part_b], axis=\"columns\")\n",
    "model_input"
   ]
  },
  {
   "cell_type": "code",
   "execution_count": 15,
   "metadata": {},
   "outputs": [
    {
     "data": {
      "text/plain": [
       "[]"
      ]
     },
     "execution_count": 15,
     "metadata": {},
     "output_type": "execute_result"
    }
   ],
   "source": [
    "list()"
   ]
  },
  {
   "cell_type": "code",
   "execution_count": 16,
   "metadata": {},
   "outputs": [],
   "source": [
    "test=np.array([[-0.63621744,  0.16800858, -0.18531993, -0.09751796,  1.50024087,\n",
    "        0.        ,  1.        ,  0.        ,  0.        ,  0.        ,\n",
    "        0.        ,  0.        ,  0.        ,  0.        ,  0.        ,\n",
    "        0.        ,  0.        ,  0.        ,  0.        ,  0.        ,\n",
    "        0.        ,  0.        ,  0.        ,  0.        ,  0.        ,\n",
    "        0.        ,  0.        ,  0.        ,  0.        ,  0.        ,\n",
    "        0.        ,  0.        ,  0.        ,  0.        ,  0.        ,\n",
    "        0.        ,  0.        ,  0.        ,  0.        ,  0.        ,\n",
    "        0.        ,  0.        ,  0.        ,  0.        ,  0.        ,\n",
    "        0.        ,  0.        ,  0.        ,  0.        ,  0.        ,\n",
    "        0.        ,  0.        ,  0.        ,  0.        ,  0.        ,\n",
    "        0.        ,  0.        ,  0.        ,  0.        ,  0.        ,\n",
    "        0.        ,  0.        ,  0.        ,  0.        ,  0.        ,\n",
    "        0.        ,  0.        ,  0.        ,  0.        ,  0.        ,\n",
    "        0.        ,  0.        ,  0.        ,  0.        ,  0.        ,\n",
    "        0.        ,  0.        ,  0.        ,  0.        ,  0.        ,\n",
    "        0.        ,  0.        ,  0.        ,  0.        ,  0.        ,\n",
    "        0.        ,  0.        ,  0.        ,  0.        ,  0.        ,\n",
    "        0.        ,  0.        ,  0.        ,  0.        ,  0.        ,\n",
    "        0.        ,  0.        ,  0.        ,  0.        ,  0.        ,\n",
    "        0.        ,  0.        ,  0.        ,  0.        ,  0.        ,\n",
    "        0.        ,  0.        ,  0.        ,  0.        ,  0.        ,\n",
    "        0.        ,  0.        ,  0.        ,  0.        ,  0.        ,\n",
    "        0.        ,  0.        ,  0.        ,  0.        ,  0.        ,\n",
    "        0.        ,  0.        ,  0.        ,  0.        ,  0.        ,\n",
    "        0.        ,  0.        ,  0.        ,  0.        ,  0.        ,\n",
    "        0.        ,  0.        ,  0.        ,  0.        ,  0.        ,\n",
    "        0.        ,  0.        ,  0.        ,  0.        ,  0.        ,\n",
    "        0.        ,  0.        ,  0.        ,  0.        ,  0.        ,\n",
    "        0.        ,  0.        ,  0.        ,  0.        ,  0.        ,\n",
    "        0.        ,  0.        ,  0.        ,  0.        ,  0.        ,\n",
    "        0.        ,  0.        ,  0.        ,  0.        ,  0.        ,\n",
    "        0.        ,  0.        ,  0.        ,  0.        ,  0.        ,\n",
    "        0.        ,  0.        ]])"
   ]
  },
  {
   "cell_type": "markdown",
   "metadata": {},
   "source": [
    "Load model"
   ]
  },
  {
   "cell_type": "code",
   "execution_count": 26,
   "metadata": {},
   "outputs": [],
   "source": [
    "classifier=pickle.load(open('linearreg.pkl','rb'))"
   ]
  },
  {
   "cell_type": "code",
   "execution_count": 27,
   "metadata": {},
   "outputs": [
    {
     "data": {
      "text/plain": [
       "array([-1.37073027e+14])"
      ]
     },
     "execution_count": 27,
     "metadata": {},
     "output_type": "execute_result"
    }
   ],
   "source": [
    "classifier.predict(model_input.values)"
   ]
  },
  {
   "cell_type": "code",
   "execution_count": 28,
   "metadata": {},
   "outputs": [
    {
     "data": {
      "text/plain": [
       "array([-6.83792742e+09])"
      ]
     },
     "execution_count": 28,
     "metadata": {},
     "output_type": "execute_result"
    }
   ],
   "source": [
    "classifier.predict(test)"
   ]
  },
  {
   "cell_type": "code",
   "execution_count": 29,
   "metadata": {},
   "outputs": [
    {
     "data": {
      "text/plain": [
       "['beds',\n",
       " 'baths',\n",
       " 'sq_ft',\n",
       " 'Unemployment_rate',\n",
       " 'income_rate',\n",
       " 'boro_Kings County                                      ',\n",
       " 'boro_New York County                                   ',\n",
       " 'boro_Queens County                                     ',\n",
       " 'boro_Richmond County                                   ',\n",
       " 'zip_10002',\n",
       " 'zip_10003',\n",
       " 'zip_10004',\n",
       " 'zip_10005',\n",
       " 'zip_10006',\n",
       " 'zip_10007',\n",
       " 'zip_10009',\n",
       " 'zip_10010',\n",
       " 'zip_10011',\n",
       " 'zip_10012',\n",
       " 'zip_10013',\n",
       " 'zip_10014',\n",
       " 'zip_10016',\n",
       " 'zip_10017',\n",
       " 'zip_10018',\n",
       " 'zip_10019',\n",
       " 'zip_10021',\n",
       " 'zip_10022',\n",
       " 'zip_10023',\n",
       " 'zip_10024',\n",
       " 'zip_10025',\n",
       " 'zip_10026',\n",
       " 'zip_10027',\n",
       " 'zip_10028',\n",
       " 'zip_10029',\n",
       " 'zip_10030',\n",
       " 'zip_10031',\n",
       " 'zip_10032',\n",
       " 'zip_10033',\n",
       " 'zip_10034',\n",
       " 'zip_10035',\n",
       " 'zip_10036',\n",
       " 'zip_10037',\n",
       " 'zip_10038',\n",
       " 'zip_10039',\n",
       " 'zip_10040',\n",
       " 'zip_10044',\n",
       " 'zip_10065',\n",
       " 'zip_10075',\n",
       " 'zip_10128',\n",
       " 'zip_10280',\n",
       " 'zip_10301',\n",
       " 'zip_10302',\n",
       " 'zip_10303',\n",
       " 'zip_10304',\n",
       " 'zip_10305',\n",
       " 'zip_10306',\n",
       " 'zip_10307',\n",
       " 'zip_10308',\n",
       " 'zip_10309',\n",
       " 'zip_10310',\n",
       " 'zip_10312',\n",
       " 'zip_10314',\n",
       " 'zip_10451',\n",
       " 'zip_10452',\n",
       " 'zip_10453',\n",
       " 'zip_10455',\n",
       " 'zip_10456',\n",
       " 'zip_10457',\n",
       " 'zip_10458',\n",
       " 'zip_10459',\n",
       " 'zip_10460',\n",
       " 'zip_10461',\n",
       " 'zip_10462',\n",
       " 'zip_10463',\n",
       " 'zip_10464',\n",
       " 'zip_10465',\n",
       " 'zip_10466',\n",
       " 'zip_10467',\n",
       " 'zip_10468',\n",
       " 'zip_10469',\n",
       " 'zip_10470',\n",
       " 'zip_10471',\n",
       " 'zip_10472',\n",
       " 'zip_10473',\n",
       " 'zip_10475',\n",
       " 'zip_11101',\n",
       " 'zip_11102',\n",
       " 'zip_11103',\n",
       " 'zip_11104',\n",
       " 'zip_11105',\n",
       " 'zip_11106',\n",
       " 'zip_11201',\n",
       " 'zip_11203',\n",
       " 'zip_11205',\n",
       " 'zip_11206',\n",
       " 'zip_11207',\n",
       " 'zip_11208',\n",
       " 'zip_11209',\n",
       " 'zip_11211',\n",
       " 'zip_11212',\n",
       " 'zip_11213',\n",
       " 'zip_11215',\n",
       " 'zip_11216',\n",
       " 'zip_11217',\n",
       " 'zip_11218',\n",
       " 'zip_11220',\n",
       " 'zip_11221',\n",
       " 'zip_11222',\n",
       " 'zip_11223',\n",
       " 'zip_11225',\n",
       " 'zip_11226',\n",
       " 'zip_11228',\n",
       " 'zip_11231',\n",
       " 'zip_11232',\n",
       " 'zip_11233',\n",
       " 'zip_11236',\n",
       " 'zip_11237',\n",
       " 'zip_11238',\n",
       " 'zip_11243',\n",
       " 'zip_11249',\n",
       " 'zip_11354',\n",
       " 'zip_11355',\n",
       " 'zip_11356',\n",
       " 'zip_11357',\n",
       " 'zip_11358',\n",
       " 'zip_11360',\n",
       " 'zip_11361',\n",
       " 'zip_11362',\n",
       " 'zip_11363',\n",
       " 'zip_11364',\n",
       " 'zip_11365',\n",
       " 'zip_11366',\n",
       " 'zip_11367',\n",
       " 'zip_11368',\n",
       " 'zip_11369',\n",
       " 'zip_11370',\n",
       " 'zip_11372',\n",
       " 'zip_11373',\n",
       " 'zip_11374',\n",
       " 'zip_11375',\n",
       " 'zip_11377',\n",
       " 'zip_11378',\n",
       " 'zip_11379',\n",
       " 'zip_11385',\n",
       " 'zip_11411',\n",
       " 'zip_11412',\n",
       " 'zip_11413',\n",
       " 'zip_11414',\n",
       " 'zip_11415',\n",
       " 'zip_11416',\n",
       " 'zip_11417',\n",
       " 'zip_11418',\n",
       " 'zip_11419',\n",
       " 'zip_11420',\n",
       " 'zip_11421',\n",
       " 'zip_11422',\n",
       " 'zip_11423',\n",
       " 'zip_11426',\n",
       " 'zip_11427',\n",
       " 'zip_11428',\n",
       " 'zip_11429',\n",
       " 'zip_11430',\n",
       " 'zip_11432',\n",
       " 'zip_11433',\n",
       " 'zip_11434',\n",
       " 'zip_11435',\n",
       " 'zip_11436']"
      ]
     },
     "execution_count": 29,
     "metadata": {},
     "output_type": "execute_result"
    }
   ],
   "source": [
    "list(model_input.columns)"
   ]
  },
  {
   "cell_type": "code",
   "execution_count": 30,
   "metadata": {},
   "outputs": [],
   "source": [
    "from joblib import dump, load\n",
    "\n",
    "classifier2=load('liregjob.joblib') "
   ]
  },
  {
   "cell_type": "code",
   "execution_count": 31,
   "metadata": {},
   "outputs": [
    {
     "data": {
      "text/plain": [
       "array([-6.83792742e+09])"
      ]
     },
     "execution_count": 31,
     "metadata": {},
     "output_type": "execute_result"
    }
   ],
   "source": [
    "classifier2.predict(test)"
   ]
  },
  {
   "cell_type": "code",
   "execution_count": 32,
   "metadata": {},
   "outputs": [
    {
     "name": "stdout",
     "output_type": "stream",
     "text": [
      "[-3.30954159e+04  3.56369375e+05  1.14177150e+05 -8.89217029e+17\n",
      "  4.92811598e+18  6.47408719e+17 -1.15841421e+19 -9.15821412e+17\n",
      " -5.12128228e+18 -9.70416000e+05 -2.87344000e+05 -2.48520000e+04\n",
      " -9.56288000e+05 -1.06021800e+06  3.02976000e+05 -7.97888000e+05\n",
      " -2.78976000e+05 -4.86144000e+05  4.70656000e+05  4.67456000e+05\n",
      " -4.40960000e+04 -9.79456000e+05 -9.74848000e+05  1.12352000e+05\n",
      " -3.54304000e+05 -5.70944000e+05 -7.04208000e+05 -8.62016000e+05\n",
      " -2.94304000e+05 -1.00377600e+06 -1.13152000e+06 -9.96864000e+05\n",
      " -6.23996000e+05 -1.01824000e+06 -1.23923200e+06 -1.10694400e+06\n",
      " -1.13408000e+06 -1.12166400e+06 -1.38203200e+06 -7.42048000e+05\n",
      " -9.18688000e+05 -1.29385600e+06 -1.00460800e+06 -1.42080000e+06\n",
      " -1.29836800e+06 -1.34396800e+06 -1.45819200e+06 -9.17240000e+05\n",
      " -1.58912000e+06 -1.11239800e+06 -4.96656000e+05 -4.88720000e+05\n",
      " -4.82528000e+05 -5.38528000e+05 -5.66992000e+05 -5.24592000e+05\n",
      " -4.25344000e+05 -5.20272000e+05 -5.23904000e+05 -5.90688000e+05\n",
      " -4.89536000e+05 -4.69920000e+05 -5.91968000e+05 -2.97184000e+05\n",
      " -2.83360000e+05 -7.01900000e+05 -3.52144000e+05 -4.36816000e+05\n",
      " -5.86528000e+05 -5.97824000e+05 -4.38976000e+05 -4.39648000e+05\n",
      " -5.57088000e+05 -1.25440000e+04 -2.69968000e+05 -5.06216000e+05\n",
      " -4.80976000e+05 -4.42336000e+05 -6.32016000e+05 -5.19896000e+05\n",
      " -4.70080000e+05 -5.26720000e+05 -3.74592000e+05 -4.77376000e+05\n",
      " -7.70284000e+05 -4.15844000e+05  4.10824000e+05 -3.43040000e+05\n",
      " -5.69920000e+05 -7.43616000e+05 -4.41120000e+05 -6.75712000e+05\n",
      " -1.05905600e+06 -9.09888000e+05 -9.36384000e+05 -1.23702400e+06\n",
      " -1.05369600e+06 -8.72672000e+05 -7.48992000e+05 -1.14969600e+06\n",
      " -8.40928000e+05 -9.08992000e+05 -9.08352000e+05 -4.75048000e+05\n",
      " -9.49168000e+05 -9.25760000e+05 -9.68192000e+05 -8.14728000e+05\n",
      " -1.05452400e+06 -1.03254400e+06 -9.95136000e+05 -5.25080000e+05\n",
      " -6.14592000e+05 -1.51486400e+06 -8.55424000e+05 -8.08832000e+05\n",
      " -1.08393600e+06 -8.33744000e+05 -1.00382400e+06 -2.77504000e+05\n",
      " -4.99456000e+05 -3.70944000e+05 -5.83680000e+05 -5.07808000e+05\n",
      " -4.96512000e+05 -5.90848000e+05 -6.14912000e+05 -6.08368000e+05\n",
      " -5.16224000e+05 -6.14912000e+05 -5.02976000e+05 -5.42720000e+05\n",
      " -5.66016000e+05 -5.01760000e+05 -6.23616000e+05 -6.32192000e+05\n",
      " -5.79584000e+05 -5.01248000e+05 -6.56896000e+05 -4.01408000e+05\n",
      " -5.39648000e+05 -5.82144000e+05 -6.11968000e+05 -5.50144000e+05\n",
      " -5.74624000e+05 -5.82016000e+05 -7.50656000e+05 -7.31136000e+05\n",
      " -7.35232000e+05 -5.79584000e+05 -6.49504000e+05 -6.57408000e+05\n",
      " -6.08000000e+05 -6.27456000e+05 -6.63552000e+05 -6.76864000e+05\n",
      " -6.55360000e+05 -6.14656000e+05 -6.20544000e+05 -7.29216000e+05\n",
      " -7.16416000e+05 -5.84448000e+05 -5.49376000e+05 -7.87808000e+05\n",
      " -8.12928000e+05 -7.65312000e+05 -7.74048000e+05]\n"
     ]
    }
   ],
   "source": [
    "print(classifier.coef_)"
   ]
  },
  {
   "cell_type": "code",
   "execution_count": 33,
   "metadata": {},
   "outputs": [
    {
     "data": {
      "text/plain": [
       "4.1040664176403267e+18"
      ]
     },
     "execution_count": 33,
     "metadata": {},
     "output_type": "execute_result"
    }
   ],
   "source": [
    "classifier.intercept_"
   ]
  },
  {
   "cell_type": "code",
   "execution_count": 34,
   "metadata": {},
   "outputs": [
    {
     "data": {
      "text/plain": [
       "[0, 1]"
      ]
     },
     "execution_count": 34,
     "metadata": {},
     "output_type": "execute_result"
    }
   ],
   "source": [
    "[0,1,]"
   ]
  },
  {
   "cell_type": "code",
   "execution_count": 35,
   "metadata": {},
   "outputs": [
    {
     "data": {
      "text/plain": [
       "(167, 1)"
      ]
     },
     "execution_count": 35,
     "metadata": {},
     "output_type": "execute_result"
    }
   ],
   "source": [
    "coefs = np.expand_dims(np.array(classifier.coef_),1)\n",
    "coefs.shape"
   ]
  },
  {
   "cell_type": "code",
   "execution_count": 37,
   "metadata": {},
   "outputs": [
    {
     "data": {
      "text/plain": [
       "(1, 167)"
      ]
     },
     "execution_count": 37,
     "metadata": {},
     "output_type": "execute_result"
    }
   ],
   "source": [
    "test.shape"
   ]
  },
  {
   "cell_type": "code",
   "execution_count": 43,
   "metadata": {},
   "outputs": [
    {
     "data": {
      "text/plain": [
       "array([[-6.83792742e+09]])"
      ]
     },
     "execution_count": 43,
     "metadata": {},
     "output_type": "execute_result"
    }
   ],
   "source": [
    "(test@coefs)+classifier.intercept_"
   ]
  },
  {
   "cell_type": "code",
   "execution_count": 40,
   "metadata": {},
   "outputs": [
    {
     "data": {
      "text/plain": [
       "array([[-0.63621744,  0.16800858, -0.18531993, -0.09751796,  1.50024087,\n",
       "         0.        ,  1.        ,  0.        ,  0.        ,  0.        ,\n",
       "         0.        ,  0.        ,  0.        ,  0.        ,  0.        ,\n",
       "         0.        ,  0.        ,  0.        ,  0.        ,  0.        ,\n",
       "         0.        ,  0.        ,  0.        ,  0.        ,  0.        ,\n",
       "         0.        ,  0.        ,  0.        ,  0.        ,  0.        ,\n",
       "         0.        ,  0.        ,  0.        ,  0.        ,  0.        ,\n",
       "         0.        ,  0.        ,  0.        ,  0.        ,  0.        ,\n",
       "         0.        ,  0.        ,  0.        ,  0.        ,  0.        ,\n",
       "         0.        ,  0.        ,  0.        ,  0.        ,  0.        ,\n",
       "         0.        ,  0.        ,  0.        ,  0.        ,  0.        ,\n",
       "         0.        ,  0.        ,  0.        ,  0.        ,  0.        ,\n",
       "         0.        ,  0.        ,  0.        ,  0.        ,  0.        ,\n",
       "         0.        ,  0.        ,  0.        ,  0.        ,  0.        ,\n",
       "         0.        ,  0.        ,  0.        ,  0.        ,  0.        ,\n",
       "         0.        ,  0.        ,  0.        ,  0.        ,  0.        ,\n",
       "         0.        ,  0.        ,  0.        ,  0.        ,  0.        ,\n",
       "         0.        ,  0.        ,  0.        ,  0.        ,  0.        ,\n",
       "         0.        ,  0.        ,  0.        ,  0.        ,  0.        ,\n",
       "         0.        ,  0.        ,  0.        ,  0.        ,  0.        ,\n",
       "         0.        ,  0.        ,  0.        ,  0.        ,  0.        ,\n",
       "         0.        ,  0.        ,  0.        ,  0.        ,  0.        ,\n",
       "         0.        ,  0.        ,  0.        ,  0.        ,  0.        ,\n",
       "         0.        ,  0.        ,  0.        ,  0.        ,  0.        ,\n",
       "         0.        ,  0.        ,  0.        ,  0.        ,  0.        ,\n",
       "         0.        ,  0.        ,  0.        ,  0.        ,  0.        ,\n",
       "         0.        ,  0.        ,  0.        ,  0.        ,  0.        ,\n",
       "         0.        ,  0.        ,  0.        ,  0.        ,  0.        ,\n",
       "         0.        ,  0.        ,  0.        ,  0.        ,  0.        ,\n",
       "         0.        ,  0.        ,  0.        ,  0.        ,  0.        ,\n",
       "         0.        ,  0.        ,  0.        ,  0.        ,  0.        ,\n",
       "         0.        ,  0.        ,  0.        ,  0.        ,  0.        ,\n",
       "         0.        ,  0.        ,  0.        ,  0.        ,  0.        ,\n",
       "         0.        ,  0.        ]])"
      ]
     },
     "execution_count": 40,
     "metadata": {},
     "output_type": "execute_result"
    }
   ],
   "source": [
    "test"
   ]
  },
  {
   "cell_type": "code",
   "execution_count": 41,
   "metadata": {},
   "outputs": [
    {
     "data": {
      "text/plain": [
       "array([[-3.30954159e+04],\n",
       "       [ 3.56369375e+05],\n",
       "       [ 1.14177150e+05],\n",
       "       [-8.89217029e+17],\n",
       "       [ 4.92811598e+18],\n",
       "       [ 6.47408719e+17],\n",
       "       [-1.15841421e+19],\n",
       "       [-9.15821412e+17],\n",
       "       [-5.12128228e+18],\n",
       "       [-9.70416000e+05],\n",
       "       [-2.87344000e+05],\n",
       "       [-2.48520000e+04],\n",
       "       [-9.56288000e+05],\n",
       "       [-1.06021800e+06],\n",
       "       [ 3.02976000e+05],\n",
       "       [-7.97888000e+05],\n",
       "       [-2.78976000e+05],\n",
       "       [-4.86144000e+05],\n",
       "       [ 4.70656000e+05],\n",
       "       [ 4.67456000e+05],\n",
       "       [-4.40960000e+04],\n",
       "       [-9.79456000e+05],\n",
       "       [-9.74848000e+05],\n",
       "       [ 1.12352000e+05],\n",
       "       [-3.54304000e+05],\n",
       "       [-5.70944000e+05],\n",
       "       [-7.04208000e+05],\n",
       "       [-8.62016000e+05],\n",
       "       [-2.94304000e+05],\n",
       "       [-1.00377600e+06],\n",
       "       [-1.13152000e+06],\n",
       "       [-9.96864000e+05],\n",
       "       [-6.23996000e+05],\n",
       "       [-1.01824000e+06],\n",
       "       [-1.23923200e+06],\n",
       "       [-1.10694400e+06],\n",
       "       [-1.13408000e+06],\n",
       "       [-1.12166400e+06],\n",
       "       [-1.38203200e+06],\n",
       "       [-7.42048000e+05],\n",
       "       [-9.18688000e+05],\n",
       "       [-1.29385600e+06],\n",
       "       [-1.00460800e+06],\n",
       "       [-1.42080000e+06],\n",
       "       [-1.29836800e+06],\n",
       "       [-1.34396800e+06],\n",
       "       [-1.45819200e+06],\n",
       "       [-9.17240000e+05],\n",
       "       [-1.58912000e+06],\n",
       "       [-1.11239800e+06],\n",
       "       [-4.96656000e+05],\n",
       "       [-4.88720000e+05],\n",
       "       [-4.82528000e+05],\n",
       "       [-5.38528000e+05],\n",
       "       [-5.66992000e+05],\n",
       "       [-5.24592000e+05],\n",
       "       [-4.25344000e+05],\n",
       "       [-5.20272000e+05],\n",
       "       [-5.23904000e+05],\n",
       "       [-5.90688000e+05],\n",
       "       [-4.89536000e+05],\n",
       "       [-4.69920000e+05],\n",
       "       [-5.91968000e+05],\n",
       "       [-2.97184000e+05],\n",
       "       [-2.83360000e+05],\n",
       "       [-7.01900000e+05],\n",
       "       [-3.52144000e+05],\n",
       "       [-4.36816000e+05],\n",
       "       [-5.86528000e+05],\n",
       "       [-5.97824000e+05],\n",
       "       [-4.38976000e+05],\n",
       "       [-4.39648000e+05],\n",
       "       [-5.57088000e+05],\n",
       "       [-1.25440000e+04],\n",
       "       [-2.69968000e+05],\n",
       "       [-5.06216000e+05],\n",
       "       [-4.80976000e+05],\n",
       "       [-4.42336000e+05],\n",
       "       [-6.32016000e+05],\n",
       "       [-5.19896000e+05],\n",
       "       [-4.70080000e+05],\n",
       "       [-5.26720000e+05],\n",
       "       [-3.74592000e+05],\n",
       "       [-4.77376000e+05],\n",
       "       [-7.70284000e+05],\n",
       "       [-4.15844000e+05],\n",
       "       [ 4.10824000e+05],\n",
       "       [-3.43040000e+05],\n",
       "       [-5.69920000e+05],\n",
       "       [-7.43616000e+05],\n",
       "       [-4.41120000e+05],\n",
       "       [-6.75712000e+05],\n",
       "       [-1.05905600e+06],\n",
       "       [-9.09888000e+05],\n",
       "       [-9.36384000e+05],\n",
       "       [-1.23702400e+06],\n",
       "       [-1.05369600e+06],\n",
       "       [-8.72672000e+05],\n",
       "       [-7.48992000e+05],\n",
       "       [-1.14969600e+06],\n",
       "       [-8.40928000e+05],\n",
       "       [-9.08992000e+05],\n",
       "       [-9.08352000e+05],\n",
       "       [-4.75048000e+05],\n",
       "       [-9.49168000e+05],\n",
       "       [-9.25760000e+05],\n",
       "       [-9.68192000e+05],\n",
       "       [-8.14728000e+05],\n",
       "       [-1.05452400e+06],\n",
       "       [-1.03254400e+06],\n",
       "       [-9.95136000e+05],\n",
       "       [-5.25080000e+05],\n",
       "       [-6.14592000e+05],\n",
       "       [-1.51486400e+06],\n",
       "       [-8.55424000e+05],\n",
       "       [-8.08832000e+05],\n",
       "       [-1.08393600e+06],\n",
       "       [-8.33744000e+05],\n",
       "       [-1.00382400e+06],\n",
       "       [-2.77504000e+05],\n",
       "       [-4.99456000e+05],\n",
       "       [-3.70944000e+05],\n",
       "       [-5.83680000e+05],\n",
       "       [-5.07808000e+05],\n",
       "       [-4.96512000e+05],\n",
       "       [-5.90848000e+05],\n",
       "       [-6.14912000e+05],\n",
       "       [-6.08368000e+05],\n",
       "       [-5.16224000e+05],\n",
       "       [-6.14912000e+05],\n",
       "       [-5.02976000e+05],\n",
       "       [-5.42720000e+05],\n",
       "       [-5.66016000e+05],\n",
       "       [-5.01760000e+05],\n",
       "       [-6.23616000e+05],\n",
       "       [-6.32192000e+05],\n",
       "       [-5.79584000e+05],\n",
       "       [-5.01248000e+05],\n",
       "       [-6.56896000e+05],\n",
       "       [-4.01408000e+05],\n",
       "       [-5.39648000e+05],\n",
       "       [-5.82144000e+05],\n",
       "       [-6.11968000e+05],\n",
       "       [-5.50144000e+05],\n",
       "       [-5.74624000e+05],\n",
       "       [-5.82016000e+05],\n",
       "       [-7.50656000e+05],\n",
       "       [-7.31136000e+05],\n",
       "       [-7.35232000e+05],\n",
       "       [-5.79584000e+05],\n",
       "       [-6.49504000e+05],\n",
       "       [-6.57408000e+05],\n",
       "       [-6.08000000e+05],\n",
       "       [-6.27456000e+05],\n",
       "       [-6.63552000e+05],\n",
       "       [-6.76864000e+05],\n",
       "       [-6.55360000e+05],\n",
       "       [-6.14656000e+05],\n",
       "       [-6.20544000e+05],\n",
       "       [-7.29216000e+05],\n",
       "       [-7.16416000e+05],\n",
       "       [-5.84448000e+05],\n",
       "       [-5.49376000e+05],\n",
       "       [-7.87808000e+05],\n",
       "       [-8.12928000e+05],\n",
       "       [-7.65312000e+05],\n",
       "       [-7.74048000e+05]])"
      ]
     },
     "execution_count": 41,
     "metadata": {},
     "output_type": "execute_result"
    }
   ],
   "source": [
    "coefs"
   ]
  },
  {
   "cell_type": "code",
   "execution_count": null,
   "metadata": {},
   "outputs": [],
   "source": []
  }
 ],
 "metadata": {
  "kernelspec": {
   "display_name": "mlenv",
   "language": "python",
   "name": "mlenv"
  },
  "language_info": {
   "codemirror_mode": {
    "name": "ipython",
    "version": 3
   },
   "file_extension": ".py",
   "mimetype": "text/x-python",
   "name": "python",
   "nbconvert_exporter": "python",
   "pygments_lexer": "ipython3",
   "version": "3.7.7"
  }
 },
 "nbformat": 4,
 "nbformat_minor": 4
}
