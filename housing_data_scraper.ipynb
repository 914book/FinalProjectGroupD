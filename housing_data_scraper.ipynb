{
 "cells": [
  {
   "cell_type": "code",
   "execution_count": null,
   "metadata": {},
   "outputs": [],
   "source": [
    "from splinter import Browser\n",
    "from bs4 import BeautifulSoup as bsoup\n",
    "from urllib.request import urlopen\n",
    "import requests\n",
    "from splinter import Browser\n",
    "import pandas as pd\n",
    "import regex as re\n",
    "import time"
   ]
  },
  {
   "cell_type": "code",
   "execution_count": null,
   "metadata": {},
   "outputs": [],
   "source": [
    "zips = [insert list of zips]"
   ]
  },
  {
   "cell_type": "code",
   "execution_count": null,
   "metadata": {},
   "outputs": [],
   "source": [
    "# max is 20\n",
    "npages = 20\n",
    "\n",
    "pages = []\n",
    "price_all_data = []\n",
    "address_all_data = []\n",
    "stats_all_data = []\n",
    "date_all_data = []\n",
    "\n",
    "price_all_data.clear()\n",
    "address_all_data.clear()\n",
    "stats_all_data.clear()\n",
    "date_all_data.clear()\n",
    "\n",
    "\n",
    "for j in zips:\n",
    "    ur = 'https://www.zillow.com/new-york-ny-'+str(j)\n",
    "\n",
    "    for i in range(1, npages):\n",
    "        url = ur+'/sold/'+str(i)+'_p/'\n",
    "        pages.append(url)\n",
    "\n",
    "        executable_path = {'executable_path': '/usr/local/bin/chromedriver'}\n",
    "        browser = Browser('chrome', **executable_path, headless=False)\n",
    "        browser.visit(url)\n",
    "        time.sleep(5)\n",
    "        html = browser.html\n",
    "        soup = bsoup(html, 'html.parser')\n",
    "\n",
    "        price = soup.find_all('div', class_='list-card-price')\n",
    "\n",
    "        address = soup.find_all(class_='list-card-addr')\n",
    "\n",
    "        stats = soup.find_all(class_='list-card-details')\n",
    "\n",
    "        date = soup.find_all(class_='list-card-variable-text list-card-img-overlay')\n",
    "\n",
    "        for a in price:    \n",
    "            price_all_data.append(a)\n",
    "        for b in address:    \n",
    "            address_all_data.append(b)\n",
    "        for c in stats:\n",
    "            stats_all_data.append(c)\n",
    "        for d in date:\n",
    "            date_all_data.append(d)\n",
    "\n",
    "        price.clear()   \n",
    "        address.clear()\n",
    "        stats.clear()  \n",
    "        date.clear()\n",
    "        browser.quit()  \n",
    " "
   ]
  },
  {
   "cell_type": "code",
   "execution_count": null,
   "metadata": {
    "scrolled": true
   },
   "outputs": [],
   "source": [
    "len(price_all_data)"
   ]
  },
  {
   "cell_type": "code",
   "execution_count": null,
   "metadata": {},
   "outputs": [],
   "source": [
    "ab = str(price_all_data)\n",
    "ac = ab.replace('<div class=\"list-card-price\">$',\"\")\n",
    "ad = ac.split('</div>,')\n",
    "prices = pd.DataFrame(ad,columns=['price'])\n",
    "\n"
   ]
  },
  {
   "cell_type": "code",
   "execution_count": null,
   "metadata": {},
   "outputs": [],
   "source": [
    "address_all_data"
   ]
  },
  {
   "cell_type": "code",
   "execution_count": null,
   "metadata": {},
   "outputs": [],
   "source": [
    "y = str(address_all_data)\n",
    "z = y.split(\">\")\n",
    "t = pd.DataFrame(z,columns=['address'])\n",
    "s = t[t != ', <address class=\"list-card-addr\"']\n",
    "r = s[s != ']']\n",
    "df3 = r[r.index % 2 == 1]\n",
    "df4 = df3.reset_index(drop=True)\n",
    "df4"
   ]
  },
  {
   "cell_type": "code",
   "execution_count": null,
   "metadata": {},
   "outputs": [],
   "source": [
    "yy = pd.DataFrame(stats_all_data)\n",
    "zz = yy.replace('\\d',\"\")\n",
    "zz\n"
   ]
  },
  {
   "cell_type": "code",
   "execution_count": null,
   "metadata": {},
   "outputs": [],
   "source": [
    "c = str(date_all_data)\n",
    "d = c.split(\">\")\n",
    "e = pd.DataFrame(d,columns=['Sold Date'])\n",
    "f = e[e != ', <address class=\"list-card-addr\"']\n",
    "y = f[f != ']']\n",
    "df3 = y[y.index % 2 == 1]\n",
    "df3 = df3.reset_index(drop=True)\n",
    "df3"
   ]
  },
  {
   "cell_type": "code",
   "execution_count": null,
   "metadata": {},
   "outputs": [],
   "source": [
    "final1 = pd.concat([df4, df3.reindex(df4.index)], axis=1)\n",
    "final2 = pd.concat([final1, zz.reindex(final1.index)], axis=1)\n",
    "final3 = pd.concat([final2, prices.reindex(final2.index)], axis=1)\n",
    "final3"
   ]
  },
  {
   "cell_type": "code",
   "execution_count": null,
   "metadata": {},
   "outputs": [],
   "source": [
    "final3.to_csv('house3.csv')"
   ]
  }
 ],
 "metadata": {
  "kernelspec": {
   "display_name": "PythonData",
   "language": "python",
   "name": "pythondata"
  },
  "language_info": {
   "codemirror_mode": {
    "name": "ipython",
    "version": 3
   },
   "file_extension": ".py",
   "mimetype": "text/x-python",
   "name": "python",
   "nbconvert_exporter": "python",
   "pygments_lexer": "ipython3",
   "version": "3.7.6"
  }
 },
 "nbformat": 4,
 "nbformat_minor": 4
}
