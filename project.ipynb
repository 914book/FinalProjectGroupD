{
  "nbformat": 4,
  "nbformat_minor": 0,
  "metadata": {
    "colab": {
      "name": "project",
      "provenance": [],
      "collapsed_sections": [],
      "authorship_tag": "ABX9TyPLRnwXmB5WVnhn5T89Sgwt",
      "include_colab_link": true
    },
    "kernelspec": {
      "name": "python3",
      "display_name": "Python 3"
    }
  },
  "cells": [
    {
      "cell_type": "markdown",
      "metadata": {
        "id": "view-in-github",
        "colab_type": "text"
      },
      "source": [
        "<a href=\"https://colab.research.google.com/github/914book/FinalProjectGroupD/blob/Circle_DB/project.ipynb\" target=\"_parent\"><img src=\"https://colab.research.google.com/assets/colab-badge.svg\" alt=\"Open In Colab\"/></a>"
      ]
    },
    {
      "cell_type": "code",
      "metadata": {
        "id": "N20dxI8roYN4"
      },
      "source": [
        "from sqlalchemy import create_engine"
      ],
      "execution_count": 1,
      "outputs": []
    },
    {
      "cell_type": "code",
      "metadata": {
        "id": "tRfVxn2HoaPA",
        "outputId": "06fea7c0-bb25-4554-ec31-9cb7134ff1c7",
        "colab": {
          "base_uri": "https://localhost:8080/",
          "height": 34
        }
      },
      "source": [
        "pip install psycopg2"
      ],
      "execution_count": 2,
      "outputs": [
        {
          "output_type": "stream",
          "text": [
            "Requirement already satisfied: psycopg2 in /usr/local/lib/python3.6/dist-packages (2.7.6.1)\n"
          ],
          "name": "stdout"
        }
      ]
    },
    {
      "cell_type": "code",
      "metadata": {
        "id": "YGYYxfTw1mM1",
        "outputId": "69816e57-e0d6-4732-cc4b-b0bca358c912",
        "colab": {
          "base_uri": "https://localhost:8080/",
          "height": 71
        }
      },
      "source": [
        "import psycopg2\n",
        "connection = psycopg2.connect(\n",
        "    host = 'housingdatabase.chkn2wwlsbys.us-east-2.rds.amazonaws.com',\n",
        "    port = 5432,\n",
        "    user = 'postgres',\n",
        "    password = 'ProjectGroup4',\n",
        "    database='NYChouses'\n",
        "    )\n",
        "cursor=connection.cursor()"
      ],
      "execution_count": 3,
      "outputs": [
        {
          "output_type": "stream",
          "text": [
            "/usr/local/lib/python3.6/dist-packages/psycopg2/__init__.py:144: UserWarning: The psycopg2 wheel package will be renamed from release 2.8; in order to keep installing from binary please use \"pip install psycopg2-binary\" instead. For details see: <http://initd.org/psycopg/docs/install.html#binary-install-from-pypi>.\n",
            "  \"\"\")\n"
          ],
          "name": "stderr"
        }
      ]
    },
    {
      "cell_type": "code",
      "metadata": {
        "id": "ZnjIjg4e28Sq"
      },
      "source": [
        "import pandas as pd\n",
        "\n",
        "sql = \"\"\"\n",
        "SELECT *\n",
        "FROM fulloutpuhousing\n",
        "\"\"\"\n",
        "fulloutpuhousing = pd.read_sql(sql, con=connection)"
      ],
      "execution_count": 4,
      "outputs": []
    },
    {
      "cell_type": "code",
      "metadata": {
        "id": "96lAfXdRc-Wt"
      },
      "source": [
        "pd.set_option('display.max_colwidth',1000)"
      ],
      "execution_count": 5,
      "outputs": []
    },
    {
      "cell_type": "code",
      "metadata": {
        "id": "RhjCyD_384bf",
        "outputId": "9423eb3d-93ae-4506-ed4f-c9a7ff6d0141",
        "colab": {
          "base_uri": "https://localhost:8080/",
          "height": 598
        }
      },
      "source": [
        "fulloutpuhousing.head()\n"
      ],
      "execution_count": 6,
      "outputs": [
        {
          "output_type": "execute_result",
          "data": {
            "text/html": [
              "<div>\n",
              "<style scoped>\n",
              "    .dataframe tbody tr th:only-of-type {\n",
              "        vertical-align: middle;\n",
              "    }\n",
              "\n",
              "    .dataframe tbody tr th {\n",
              "        vertical-align: top;\n",
              "    }\n",
              "\n",
              "    .dataframe thead th {\n",
              "        text-align: right;\n",
              "    }\n",
              "</style>\n",
              "<table border=\"1\" class=\"dataframe\">\n",
              "  <thead>\n",
              "    <tr style=\"text-align: right;\">\n",
              "      <th></th>\n",
              "      <th>address</th>\n",
              "      <th>zipcode</th>\n",
              "      <th>date</th>\n",
              "      <th>beds</th>\n",
              "      <th>bath</th>\n",
              "      <th>sq_ft</th>\n",
              "      <th>house_price</th>\n",
              "      <th>city</th>\n",
              "      <th>county</th>\n",
              "      <th>county_type</th>\n",
              "      <th>boro</th>\n",
              "      <th>income_over_100k</th>\n",
              "      <th>income_under_100k</th>\n",
              "      <th>employed</th>\n",
              "      <th>unemployed</th>\n",
              "    </tr>\n",
              "  </thead>\n",
              "  <tbody>\n",
              "    <tr>\n",
              "      <th>0</th>\n",
              "      <td>4205 48th Ave APT 3G, Flushing, NY 11377</td>\n",
              "      <td>11377</td>\n",
              "      <td>2020-10-16</td>\n",
              "      <td>Studio</td>\n",
              "      <td>1.0</td>\n",
              "      <td>53400</td>\n",
              "      <td>244000</td>\n",
              "      <td>Woodside</td>\n",
              "      <td>Woodside</td>\n",
              "      <td>Queens</td>\n",
              "      <td>Queens County</td>\n",
              "      <td>166650</td>\n",
              "      <td>1015040</td>\n",
              "      <td>1099996</td>\n",
              "      <td>39401</td>\n",
              "    </tr>\n",
              "    <tr>\n",
              "      <th>1</th>\n",
              "      <td>14404 76th Rd, Flushing, NY 11367</td>\n",
              "      <td>11367</td>\n",
              "      <td>2020-10-16</td>\n",
              "      <td>3</td>\n",
              "      <td>3.0</td>\n",
              "      <td>1980</td>\n",
              "      <td>680000</td>\n",
              "      <td>Flushing</td>\n",
              "      <td>Flushing</td>\n",
              "      <td>Queens</td>\n",
              "      <td>Queens County</td>\n",
              "      <td>166650</td>\n",
              "      <td>1015040</td>\n",
              "      <td>1099996</td>\n",
              "      <td>39401</td>\n",
              "    </tr>\n",
              "    <tr>\n",
              "      <th>2</th>\n",
              "      <td>35 88th St, Brooklyn, NY 11209</td>\n",
              "      <td>11209</td>\n",
              "      <td>2020-10-16</td>\n",
              "      <td>3</td>\n",
              "      <td>1.0</td>\n",
              "      <td>1520</td>\n",
              "      <td>900000</td>\n",
              "      <td>Brooklyn</td>\n",
              "      <td>Brooklyn</td>\n",
              "      <td>Kings</td>\n",
              "      <td>Kings County (Brooklyn)</td>\n",
              "      <td>188640</td>\n",
              "      <td>1067440</td>\n",
              "      <td>1149461</td>\n",
              "      <td>48699</td>\n",
              "    </tr>\n",
              "    <tr>\n",
              "      <th>3</th>\n",
              "      <td>11128 130th St, Jamaica, NY 11420</td>\n",
              "      <td>11420</td>\n",
              "      <td>2020-10-16</td>\n",
              "      <td>3</td>\n",
              "      <td>2.0</td>\n",
              "      <td>1440</td>\n",
              "      <td>625000</td>\n",
              "      <td>South Ozone Park</td>\n",
              "      <td>South Ozone Park</td>\n",
              "      <td>Queens</td>\n",
              "      <td>Queens County</td>\n",
              "      <td>166650</td>\n",
              "      <td>1015040</td>\n",
              "      <td>1099996</td>\n",
              "      <td>39401</td>\n",
              "    </tr>\n",
              "    <tr>\n",
              "      <th>4</th>\n",
              "      <td>20102 32nd Ave, Flushing, NY 11361</td>\n",
              "      <td>11361</td>\n",
              "      <td>2020-10-16</td>\n",
              "      <td>2</td>\n",
              "      <td>1.0</td>\n",
              "      <td>1406</td>\n",
              "      <td>1720000</td>\n",
              "      <td>Bayside</td>\n",
              "      <td>Bayside</td>\n",
              "      <td>Queens</td>\n",
              "      <td>Queens County</td>\n",
              "      <td>166650</td>\n",
              "      <td>1015040</td>\n",
              "      <td>1099996</td>\n",
              "      <td>39401</td>\n",
              "    </tr>\n",
              "  </tbody>\n",
              "</table>\n",
              "</div>"
            ],
            "text/plain": [
              "                                    address  zipcode  ... employed unemployed\n",
              "0  4205 48th Ave APT 3G, Flushing, NY 11377    11377  ...  1099996      39401\n",
              "1         14404 76th Rd, Flushing, NY 11367    11367  ...  1099996      39401\n",
              "2            35 88th St, Brooklyn, NY 11209    11209  ...  1149461      48699\n",
              "3         11128 130th St, Jamaica, NY 11420    11420  ...  1099996      39401\n",
              "4        20102 32nd Ave, Flushing, NY 11361    11361  ...  1099996      39401\n",
              "\n",
              "[5 rows x 15 columns]"
            ]
          },
          "metadata": {
            "tags": []
          },
          "execution_count": 6
        }
      ]
    }
  ]
}