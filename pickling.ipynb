{
 "cells": [
  {
   "cell_type": "code",
   "execution_count": 1,
   "metadata": {},
   "outputs": [],
   "source": [
    "import pickle\n",
    "import numpy as np\n",
    "import pandas as pd"
   ]
  },
  {
   "cell_type": "markdown",
   "metadata": {},
   "source": [
    "pickle.dump(rf_model, open('model.pkl','wb'))\n",
    "rf_model = pickle.load(open('model.pkl','rb'))\n",
    "pickle.dump(classifier, open('linearreg.pkl','wb'))\n",
    "pickle.dump(scaler, open('scaler.pkl','wb'))\n",
    "pickle.dump(enc, open('encoder.pkl','wb'))\n",
    "pickle.dump(encz, open('encoderz.pkl','wb'))"
   ]
  },
  {
   "cell_type": "code",
   "execution_count": 61,
   "metadata": {},
   "outputs": [
    {
     "data": {
      "text/plain": [
       "['11367', '6', '2', '1500', 'Queens County', '0.034581', '0.141027']"
      ]
     },
     "execution_count": 61,
     "metadata": {},
     "output_type": "execute_result"
    }
   ],
   "source": [
    "predict=[]\n",
    "predict=['11367', '6', '2', '1500', 'Queens County', '0.034581', '0.141027']\n",
    "predict"
   ]
  },
  {
   "cell_type": "markdown",
   "metadata": {},
   "source": [
    "## Boroughs"
   ]
  },
  {
   "cell_type": "markdown",
   "metadata": {},
   "source": [
    "Load encoder"
   ]
  },
  {
   "cell_type": "code",
   "execution_count": 62,
   "metadata": {},
   "outputs": [],
   "source": [
    "enc=pickle.load(open('encoder.pkl','rb'))"
   ]
  },
  {
   "cell_type": "markdown",
   "metadata": {},
   "source": [
    "Apply encoder to create `boro_` columns"
   ]
  },
  {
   "cell_type": "code",
   "execution_count": 63,
   "metadata": {},
   "outputs": [],
   "source": [
    "part_a = pd.DataFrame.from_records(\n",
    "    enc.transform(np.array([[predict[4].ljust(50, \" \")]])),\n",
    "    columns=enc.get_feature_names(['boro'])\n",
    ")"
   ]
  },
  {
   "cell_type": "code",
   "execution_count": 64,
   "metadata": {},
   "outputs": [
    {
     "data": {
      "text/html": [
       "<div>\n",
       "<style scoped>\n",
       "    .dataframe tbody tr th:only-of-type {\n",
       "        vertical-align: middle;\n",
       "    }\n",
       "\n",
       "    .dataframe tbody tr th {\n",
       "        vertical-align: top;\n",
       "    }\n",
       "\n",
       "    .dataframe thead th {\n",
       "        text-align: right;\n",
       "    }\n",
       "</style>\n",
       "<table border=\"1\" class=\"dataframe\">\n",
       "  <thead>\n",
       "    <tr style=\"text-align: right;\">\n",
       "      <th></th>\n",
       "      <th>boro_Kings County</th>\n",
       "      <th>boro_New York County</th>\n",
       "      <th>boro_Queens County</th>\n",
       "      <th>boro_Richmond County</th>\n",
       "    </tr>\n",
       "  </thead>\n",
       "  <tbody>\n",
       "    <tr>\n",
       "      <th>0</th>\n",
       "      <td>0.0</td>\n",
       "      <td>0.0</td>\n",
       "      <td>1.0</td>\n",
       "      <td>0.0</td>\n",
       "    </tr>\n",
       "  </tbody>\n",
       "</table>\n",
       "</div>"
      ],
      "text/plain": [
       "   boro_Kings County                                        \\\n",
       "0                                                0.0         \n",
       "\n",
       "   boro_New York County                                     \\\n",
       "0                                                0.0         \n",
       "\n",
       "   boro_Queens County                                       \\\n",
       "0                                                1.0         \n",
       "\n",
       "   boro_Richmond County                                     \n",
       "0                                                0.0        "
      ]
     },
     "execution_count": 64,
     "metadata": {},
     "output_type": "execute_result"
    }
   ],
   "source": [
    "part_a"
   ]
  },
  {
   "cell_type": "markdown",
   "metadata": {},
   "source": [
    "## ZIP codes"
   ]
  },
  {
   "cell_type": "code",
   "execution_count": 65,
   "metadata": {},
   "outputs": [],
   "source": [
    "encz=pickle.load(open('encoderz.pkl','rb'))"
   ]
  },
  {
   "cell_type": "markdown",
   "metadata": {},
   "source": [
    "Apply encoder to create zip_ columns"
   ]
  },
  {
   "cell_type": "code",
   "execution_count": 66,
   "metadata": {},
   "outputs": [],
   "source": [
    "part_b = pd.DataFrame.from_records(\n",
    "    encz.transform(np.array([[predict[0]]])),\n",
    "    columns=encz.get_feature_names(['zip'])\n",
    ")"
   ]
  },
  {
   "cell_type": "code",
   "execution_count": 67,
   "metadata": {},
   "outputs": [
    {
     "data": {
      "text/html": [
       "<div>\n",
       "<style scoped>\n",
       "    .dataframe tbody tr th:only-of-type {\n",
       "        vertical-align: middle;\n",
       "    }\n",
       "\n",
       "    .dataframe tbody tr th {\n",
       "        vertical-align: top;\n",
       "    }\n",
       "\n",
       "    .dataframe thead th {\n",
       "        text-align: right;\n",
       "    }\n",
       "</style>\n",
       "<table border=\"1\" class=\"dataframe\">\n",
       "  <thead>\n",
       "    <tr style=\"text-align: right;\">\n",
       "      <th></th>\n",
       "      <th>zip_10002</th>\n",
       "      <th>zip_10003</th>\n",
       "      <th>zip_10004</th>\n",
       "      <th>zip_10005</th>\n",
       "      <th>zip_10006</th>\n",
       "      <th>zip_10007</th>\n",
       "      <th>zip_10009</th>\n",
       "      <th>zip_10010</th>\n",
       "      <th>zip_10011</th>\n",
       "      <th>zip_10012</th>\n",
       "      <th>...</th>\n",
       "      <th>zip_11426</th>\n",
       "      <th>zip_11427</th>\n",
       "      <th>zip_11428</th>\n",
       "      <th>zip_11429</th>\n",
       "      <th>zip_11430</th>\n",
       "      <th>zip_11432</th>\n",
       "      <th>zip_11433</th>\n",
       "      <th>zip_11434</th>\n",
       "      <th>zip_11435</th>\n",
       "      <th>zip_11436</th>\n",
       "    </tr>\n",
       "  </thead>\n",
       "  <tbody>\n",
       "    <tr>\n",
       "      <th>0</th>\n",
       "      <td>0.0</td>\n",
       "      <td>0.0</td>\n",
       "      <td>0.0</td>\n",
       "      <td>0.0</td>\n",
       "      <td>0.0</td>\n",
       "      <td>0.0</td>\n",
       "      <td>0.0</td>\n",
       "      <td>0.0</td>\n",
       "      <td>0.0</td>\n",
       "      <td>0.0</td>\n",
       "      <td>...</td>\n",
       "      <td>0.0</td>\n",
       "      <td>0.0</td>\n",
       "      <td>0.0</td>\n",
       "      <td>0.0</td>\n",
       "      <td>0.0</td>\n",
       "      <td>0.0</td>\n",
       "      <td>0.0</td>\n",
       "      <td>0.0</td>\n",
       "      <td>0.0</td>\n",
       "      <td>0.0</td>\n",
       "    </tr>\n",
       "  </tbody>\n",
       "</table>\n",
       "<p>1 rows × 158 columns</p>\n",
       "</div>"
      ],
      "text/plain": [
       "   zip_10002  zip_10003  zip_10004  zip_10005  zip_10006  zip_10007  \\\n",
       "0        0.0        0.0        0.0        0.0        0.0        0.0   \n",
       "\n",
       "   zip_10009  zip_10010  zip_10011  zip_10012  ...  zip_11426  zip_11427  \\\n",
       "0        0.0        0.0        0.0        0.0  ...        0.0        0.0   \n",
       "\n",
       "   zip_11428  zip_11429  zip_11430  zip_11432  zip_11433  zip_11434  \\\n",
       "0        0.0        0.0        0.0        0.0        0.0        0.0   \n",
       "\n",
       "   zip_11435  zip_11436  \n",
       "0        0.0        0.0  \n",
       "\n",
       "[1 rows x 158 columns]"
      ]
     },
     "execution_count": 67,
     "metadata": {},
     "output_type": "execute_result"
    }
   ],
   "source": [
    "part_b"
   ]
  },
  {
   "cell_type": "code",
   "execution_count": 68,
   "metadata": {},
   "outputs": [
    {
     "data": {
      "text/plain": [
       "['zip_10002',\n",
       " 'zip_10003',\n",
       " 'zip_10004',\n",
       " 'zip_10005',\n",
       " 'zip_10006',\n",
       " 'zip_10007',\n",
       " 'zip_10009',\n",
       " 'zip_10010',\n",
       " 'zip_10011',\n",
       " 'zip_10012',\n",
       " 'zip_10013',\n",
       " 'zip_10014',\n",
       " 'zip_10016',\n",
       " 'zip_10017',\n",
       " 'zip_10018',\n",
       " 'zip_10019',\n",
       " 'zip_10021',\n",
       " 'zip_10022',\n",
       " 'zip_10023',\n",
       " 'zip_10024',\n",
       " 'zip_10025',\n",
       " 'zip_10026',\n",
       " 'zip_10027',\n",
       " 'zip_10028',\n",
       " 'zip_10029',\n",
       " 'zip_10030',\n",
       " 'zip_10031',\n",
       " 'zip_10032',\n",
       " 'zip_10033',\n",
       " 'zip_10034',\n",
       " 'zip_10035',\n",
       " 'zip_10036',\n",
       " 'zip_10037',\n",
       " 'zip_10038',\n",
       " 'zip_10039',\n",
       " 'zip_10040',\n",
       " 'zip_10044',\n",
       " 'zip_10065',\n",
       " 'zip_10075',\n",
       " 'zip_10128',\n",
       " 'zip_10280',\n",
       " 'zip_10301',\n",
       " 'zip_10302',\n",
       " 'zip_10303',\n",
       " 'zip_10304',\n",
       " 'zip_10305',\n",
       " 'zip_10306',\n",
       " 'zip_10307',\n",
       " 'zip_10308',\n",
       " 'zip_10309',\n",
       " 'zip_10310',\n",
       " 'zip_10312',\n",
       " 'zip_10314',\n",
       " 'zip_10451',\n",
       " 'zip_10452',\n",
       " 'zip_10453',\n",
       " 'zip_10455',\n",
       " 'zip_10456',\n",
       " 'zip_10457',\n",
       " 'zip_10458',\n",
       " 'zip_10459',\n",
       " 'zip_10460',\n",
       " 'zip_10461',\n",
       " 'zip_10462',\n",
       " 'zip_10463',\n",
       " 'zip_10464',\n",
       " 'zip_10465',\n",
       " 'zip_10466',\n",
       " 'zip_10467',\n",
       " 'zip_10468',\n",
       " 'zip_10469',\n",
       " 'zip_10470',\n",
       " 'zip_10471',\n",
       " 'zip_10472',\n",
       " 'zip_10473',\n",
       " 'zip_10475',\n",
       " 'zip_11101',\n",
       " 'zip_11102',\n",
       " 'zip_11103',\n",
       " 'zip_11104',\n",
       " 'zip_11105',\n",
       " 'zip_11106',\n",
       " 'zip_11201',\n",
       " 'zip_11203',\n",
       " 'zip_11205',\n",
       " 'zip_11206',\n",
       " 'zip_11207',\n",
       " 'zip_11208',\n",
       " 'zip_11209',\n",
       " 'zip_11211',\n",
       " 'zip_11212',\n",
       " 'zip_11213',\n",
       " 'zip_11215',\n",
       " 'zip_11216',\n",
       " 'zip_11217',\n",
       " 'zip_11218',\n",
       " 'zip_11220',\n",
       " 'zip_11221',\n",
       " 'zip_11222',\n",
       " 'zip_11223',\n",
       " 'zip_11225',\n",
       " 'zip_11226',\n",
       " 'zip_11228',\n",
       " 'zip_11231',\n",
       " 'zip_11232',\n",
       " 'zip_11233',\n",
       " 'zip_11236',\n",
       " 'zip_11237',\n",
       " 'zip_11238',\n",
       " 'zip_11243',\n",
       " 'zip_11249',\n",
       " 'zip_11354',\n",
       " 'zip_11355',\n",
       " 'zip_11356',\n",
       " 'zip_11357',\n",
       " 'zip_11358',\n",
       " 'zip_11360',\n",
       " 'zip_11361',\n",
       " 'zip_11362',\n",
       " 'zip_11363',\n",
       " 'zip_11364',\n",
       " 'zip_11365',\n",
       " 'zip_11366',\n",
       " 'zip_11367',\n",
       " 'zip_11368',\n",
       " 'zip_11369',\n",
       " 'zip_11370',\n",
       " 'zip_11372',\n",
       " 'zip_11373',\n",
       " 'zip_11374',\n",
       " 'zip_11375',\n",
       " 'zip_11377',\n",
       " 'zip_11378',\n",
       " 'zip_11379',\n",
       " 'zip_11385',\n",
       " 'zip_11411',\n",
       " 'zip_11412',\n",
       " 'zip_11413',\n",
       " 'zip_11414',\n",
       " 'zip_11415',\n",
       " 'zip_11416',\n",
       " 'zip_11417',\n",
       " 'zip_11418',\n",
       " 'zip_11419',\n",
       " 'zip_11420',\n",
       " 'zip_11421',\n",
       " 'zip_11422',\n",
       " 'zip_11423',\n",
       " 'zip_11426',\n",
       " 'zip_11427',\n",
       " 'zip_11428',\n",
       " 'zip_11429',\n",
       " 'zip_11430',\n",
       " 'zip_11432',\n",
       " 'zip_11433',\n",
       " 'zip_11434',\n",
       " 'zip_11435',\n",
       " 'zip_11436']"
      ]
     },
     "execution_count": 68,
     "metadata": {},
     "output_type": "execute_result"
    }
   ],
   "source": [
    "list(part_b)"
   ]
  },
  {
   "cell_type": "markdown",
   "metadata": {},
   "source": [
    "## Scaler"
   ]
  },
  {
   "cell_type": "code",
   "execution_count": 69,
   "metadata": {},
   "outputs": [],
   "source": [
    "scaler=pickle.load(open('scaler.pkl','rb'))\n",
    "scaler2=pickle.load(open('scaler2.pkl','rb'))"
   ]
  },
  {
   "cell_type": "markdown",
   "metadata": {},
   "source": [
    "Apply scaler to numeric columns"
   ]
  },
  {
   "cell_type": "code",
   "execution_count": 70,
   "metadata": {},
   "outputs": [],
   "source": [
    "part_c=pd.DataFrame.from_records(\n",
    "    scaler.transform(np.array([[int(predict[1]),float(predict[2]),float(predict[3]),float(predict[5]),float(predict[6])]])),\n",
    "    columns=(['beds', 'baths', 'sq_ft', 'Unemployment_rate', 'income_rate'])\n",
    ")"
   ]
  },
  {
   "cell_type": "code",
   "execution_count": 71,
   "metadata": {},
   "outputs": [
    {
     "data": {
      "text/html": [
       "<div>\n",
       "<style scoped>\n",
       "    .dataframe tbody tr th:only-of-type {\n",
       "        vertical-align: middle;\n",
       "    }\n",
       "\n",
       "    .dataframe tbody tr th {\n",
       "        vertical-align: top;\n",
       "    }\n",
       "\n",
       "    .dataframe thead th {\n",
       "        text-align: right;\n",
       "    }\n",
       "</style>\n",
       "<table border=\"1\" class=\"dataframe\">\n",
       "  <thead>\n",
       "    <tr style=\"text-align: right;\">\n",
       "      <th></th>\n",
       "      <th>beds</th>\n",
       "      <th>baths</th>\n",
       "      <th>sq_ft</th>\n",
       "      <th>Unemployment_rate</th>\n",
       "      <th>income_rate</th>\n",
       "    </tr>\n",
       "  </thead>\n",
       "  <tbody>\n",
       "    <tr>\n",
       "      <th>0</th>\n",
       "      <td>1.85837</td>\n",
       "      <td>0.168009</td>\n",
       "      <td>-0.180201</td>\n",
       "      <td>-0.286261</td>\n",
       "      <td>-0.69863</td>\n",
       "    </tr>\n",
       "  </tbody>\n",
       "</table>\n",
       "</div>"
      ],
      "text/plain": [
       "      beds     baths     sq_ft  Unemployment_rate  income_rate\n",
       "0  1.85837  0.168009 -0.180201          -0.286261     -0.69863"
      ]
     },
     "execution_count": 71,
     "metadata": {},
     "output_type": "execute_result"
    }
   ],
   "source": [
    "part_c"
   ]
  },
  {
   "cell_type": "code",
   "execution_count": 72,
   "metadata": {},
   "outputs": [],
   "source": [
    "#pickle.dump(classifier, open('linearreg.pkl','wb'))"
   ]
  },
  {
   "cell_type": "markdown",
   "metadata": {},
   "source": [
    "## Model Linear regression"
   ]
  },
  {
   "cell_type": "code",
   "execution_count": 73,
   "metadata": {},
   "outputs": [
    {
     "data": {
      "text/html": [
       "<div>\n",
       "<style scoped>\n",
       "    .dataframe tbody tr th:only-of-type {\n",
       "        vertical-align: middle;\n",
       "    }\n",
       "\n",
       "    .dataframe tbody tr th {\n",
       "        vertical-align: top;\n",
       "    }\n",
       "\n",
       "    .dataframe thead th {\n",
       "        text-align: right;\n",
       "    }\n",
       "</style>\n",
       "<table border=\"1\" class=\"dataframe\">\n",
       "  <thead>\n",
       "    <tr style=\"text-align: right;\">\n",
       "      <th></th>\n",
       "      <th>beds</th>\n",
       "      <th>baths</th>\n",
       "      <th>sq_ft</th>\n",
       "      <th>Unemployment_rate</th>\n",
       "      <th>income_rate</th>\n",
       "      <th>boro_Kings County</th>\n",
       "      <th>boro_New York County</th>\n",
       "      <th>boro_Queens County</th>\n",
       "      <th>boro_Richmond County</th>\n",
       "      <th>zip_10002</th>\n",
       "      <th>...</th>\n",
       "      <th>zip_11426</th>\n",
       "      <th>zip_11427</th>\n",
       "      <th>zip_11428</th>\n",
       "      <th>zip_11429</th>\n",
       "      <th>zip_11430</th>\n",
       "      <th>zip_11432</th>\n",
       "      <th>zip_11433</th>\n",
       "      <th>zip_11434</th>\n",
       "      <th>zip_11435</th>\n",
       "      <th>zip_11436</th>\n",
       "    </tr>\n",
       "  </thead>\n",
       "  <tbody>\n",
       "    <tr>\n",
       "      <th>0</th>\n",
       "      <td>1.85837</td>\n",
       "      <td>0.168009</td>\n",
       "      <td>-0.180201</td>\n",
       "      <td>-0.286261</td>\n",
       "      <td>-0.69863</td>\n",
       "      <td>0.0</td>\n",
       "      <td>0.0</td>\n",
       "      <td>1.0</td>\n",
       "      <td>0.0</td>\n",
       "      <td>0.0</td>\n",
       "      <td>...</td>\n",
       "      <td>0.0</td>\n",
       "      <td>0.0</td>\n",
       "      <td>0.0</td>\n",
       "      <td>0.0</td>\n",
       "      <td>0.0</td>\n",
       "      <td>0.0</td>\n",
       "      <td>0.0</td>\n",
       "      <td>0.0</td>\n",
       "      <td>0.0</td>\n",
       "      <td>0.0</td>\n",
       "    </tr>\n",
       "  </tbody>\n",
       "</table>\n",
       "<p>1 rows × 167 columns</p>\n",
       "</div>"
      ],
      "text/plain": [
       "      beds     baths     sq_ft  Unemployment_rate  income_rate  \\\n",
       "0  1.85837  0.168009 -0.180201          -0.286261     -0.69863   \n",
       "\n",
       "   boro_Kings County                                        \\\n",
       "0                                                0.0         \n",
       "\n",
       "   boro_New York County                                     \\\n",
       "0                                                0.0         \n",
       "\n",
       "   boro_Queens County                                       \\\n",
       "0                                                1.0         \n",
       "\n",
       "   boro_Richmond County                                     zip_10002  ...  \\\n",
       "0                                                0.0              0.0  ...   \n",
       "\n",
       "   zip_11426  zip_11427  zip_11428  zip_11429  zip_11430  zip_11432  \\\n",
       "0        0.0        0.0        0.0        0.0        0.0        0.0   \n",
       "\n",
       "   zip_11433  zip_11434  zip_11435  zip_11436  \n",
       "0        0.0        0.0        0.0        0.0  \n",
       "\n",
       "[1 rows x 167 columns]"
      ]
     },
     "execution_count": 73,
     "metadata": {},
     "output_type": "execute_result"
    }
   ],
   "source": [
    "from sklearn.linear_model import LinearRegression\n",
    "from sklearn.ensemble import RandomForestRegressor\n",
    "\n",
    "model_input = pd.concat([part_c,part_a,part_b], axis=\"columns\")\n",
    "model_input"
   ]
  },
  {
   "cell_type": "markdown",
   "metadata": {},
   "source": [
    "Load model"
   ]
  },
  {
   "cell_type": "code",
   "execution_count": 74,
   "metadata": {},
   "outputs": [],
   "source": [
    "classifier=pickle.load(open('rfmodel.pkl','rb'))"
   ]
  },
  {
   "cell_type": "code",
   "execution_count": 75,
   "metadata": {},
   "outputs": [],
   "source": [
    "pred2 = classifier.predict(model_input.values)"
   ]
  },
  {
   "cell_type": "code",
   "execution_count": 76,
   "metadata": {},
   "outputs": [
    {
     "data": {
      "text/plain": [
       "array([943320.3125])"
      ]
     },
     "execution_count": 76,
     "metadata": {},
     "output_type": "execute_result"
    }
   ],
   "source": [
    "y_inverse2 = scaler2.inverse_transform(pred2)\n",
    "y_inverse2"
   ]
  },
  {
   "cell_type": "code",
   "execution_count": 23,
   "metadata": {
    "collapsed": true
   },
   "outputs": [
    {
     "data": {
      "text/plain": [
       "['beds',\n",
       " 'baths',\n",
       " 'sq_ft',\n",
       " 'Unemployment_rate',\n",
       " 'income_rate',\n",
       " 'boro_Kings County                                      ',\n",
       " 'boro_New York County                                   ',\n",
       " 'boro_Queens County                                     ',\n",
       " 'boro_Richmond County                                   ',\n",
       " 'zip_10002',\n",
       " 'zip_10003',\n",
       " 'zip_10004',\n",
       " 'zip_10005',\n",
       " 'zip_10006',\n",
       " 'zip_10007',\n",
       " 'zip_10009',\n",
       " 'zip_10010',\n",
       " 'zip_10011',\n",
       " 'zip_10012',\n",
       " 'zip_10013',\n",
       " 'zip_10014',\n",
       " 'zip_10016',\n",
       " 'zip_10017',\n",
       " 'zip_10018',\n",
       " 'zip_10019',\n",
       " 'zip_10021',\n",
       " 'zip_10022',\n",
       " 'zip_10023',\n",
       " 'zip_10024',\n",
       " 'zip_10025',\n",
       " 'zip_10026',\n",
       " 'zip_10027',\n",
       " 'zip_10028',\n",
       " 'zip_10029',\n",
       " 'zip_10030',\n",
       " 'zip_10031',\n",
       " 'zip_10032',\n",
       " 'zip_10033',\n",
       " 'zip_10034',\n",
       " 'zip_10035',\n",
       " 'zip_10036',\n",
       " 'zip_10037',\n",
       " 'zip_10038',\n",
       " 'zip_10039',\n",
       " 'zip_10040',\n",
       " 'zip_10044',\n",
       " 'zip_10065',\n",
       " 'zip_10075',\n",
       " 'zip_10128',\n",
       " 'zip_10280',\n",
       " 'zip_10301',\n",
       " 'zip_10302',\n",
       " 'zip_10303',\n",
       " 'zip_10304',\n",
       " 'zip_10305',\n",
       " 'zip_10306',\n",
       " 'zip_10307',\n",
       " 'zip_10308',\n",
       " 'zip_10309',\n",
       " 'zip_10310',\n",
       " 'zip_10312',\n",
       " 'zip_10314',\n",
       " 'zip_10451',\n",
       " 'zip_10452',\n",
       " 'zip_10453',\n",
       " 'zip_10455',\n",
       " 'zip_10456',\n",
       " 'zip_10457',\n",
       " 'zip_10458',\n",
       " 'zip_10459',\n",
       " 'zip_10460',\n",
       " 'zip_10461',\n",
       " 'zip_10462',\n",
       " 'zip_10463',\n",
       " 'zip_10464',\n",
       " 'zip_10465',\n",
       " 'zip_10466',\n",
       " 'zip_10467',\n",
       " 'zip_10468',\n",
       " 'zip_10469',\n",
       " 'zip_10470',\n",
       " 'zip_10471',\n",
       " 'zip_10472',\n",
       " 'zip_10473',\n",
       " 'zip_10475',\n",
       " 'zip_11101',\n",
       " 'zip_11102',\n",
       " 'zip_11103',\n",
       " 'zip_11104',\n",
       " 'zip_11105',\n",
       " 'zip_11106',\n",
       " 'zip_11201',\n",
       " 'zip_11203',\n",
       " 'zip_11205',\n",
       " 'zip_11206',\n",
       " 'zip_11207',\n",
       " 'zip_11208',\n",
       " 'zip_11209',\n",
       " 'zip_11211',\n",
       " 'zip_11212',\n",
       " 'zip_11213',\n",
       " 'zip_11215',\n",
       " 'zip_11216',\n",
       " 'zip_11217',\n",
       " 'zip_11218',\n",
       " 'zip_11220',\n",
       " 'zip_11221',\n",
       " 'zip_11222',\n",
       " 'zip_11223',\n",
       " 'zip_11225',\n",
       " 'zip_11226',\n",
       " 'zip_11228',\n",
       " 'zip_11231',\n",
       " 'zip_11232',\n",
       " 'zip_11233',\n",
       " 'zip_11236',\n",
       " 'zip_11237',\n",
       " 'zip_11238',\n",
       " 'zip_11243',\n",
       " 'zip_11249',\n",
       " 'zip_11354',\n",
       " 'zip_11355',\n",
       " 'zip_11356',\n",
       " 'zip_11357',\n",
       " 'zip_11358',\n",
       " 'zip_11360',\n",
       " 'zip_11361',\n",
       " 'zip_11362',\n",
       " 'zip_11363',\n",
       " 'zip_11364',\n",
       " 'zip_11365',\n",
       " 'zip_11366',\n",
       " 'zip_11367',\n",
       " 'zip_11368',\n",
       " 'zip_11369',\n",
       " 'zip_11370',\n",
       " 'zip_11372',\n",
       " 'zip_11373',\n",
       " 'zip_11374',\n",
       " 'zip_11375',\n",
       " 'zip_11377',\n",
       " 'zip_11378',\n",
       " 'zip_11379',\n",
       " 'zip_11385',\n",
       " 'zip_11411',\n",
       " 'zip_11412',\n",
       " 'zip_11413',\n",
       " 'zip_11414',\n",
       " 'zip_11415',\n",
       " 'zip_11416',\n",
       " 'zip_11417',\n",
       " 'zip_11418',\n",
       " 'zip_11419',\n",
       " 'zip_11420',\n",
       " 'zip_11421',\n",
       " 'zip_11422',\n",
       " 'zip_11423',\n",
       " 'zip_11426',\n",
       " 'zip_11427',\n",
       " 'zip_11428',\n",
       " 'zip_11429',\n",
       " 'zip_11430',\n",
       " 'zip_11432',\n",
       " 'zip_11433',\n",
       " 'zip_11434',\n",
       " 'zip_11435',\n",
       " 'zip_11436']"
      ]
     },
     "execution_count": 23,
     "metadata": {},
     "output_type": "execute_result"
    }
   ],
   "source": [
    "list(model_input.columns)"
   ]
  },
  {
   "cell_type": "code",
   "execution_count": null,
   "metadata": {},
   "outputs": [],
   "source": []
  }
 ],
 "metadata": {
  "kernelspec": {
   "display_name": "mlenv",
   "language": "python",
   "name": "mlenv"
  },
  "language_info": {
   "codemirror_mode": {
    "name": "ipython",
    "version": 3
   },
   "file_extension": ".py",
   "mimetype": "text/x-python",
   "name": "python",
   "nbconvert_exporter": "python",
   "pygments_lexer": "ipython3",
   "version": "3.7.7"
  }
 },
 "nbformat": 4,
 "nbformat_minor": 4
}
